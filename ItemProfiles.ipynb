{
 "cells": [
  {
   "cell_type": "code",
   "execution_count": null,
   "metadata": {},
   "outputs": [],
   "source": []
  }
 ],
 "metadata": {
  "kernelspec": {
   "display_name": "Python 3.9.12 ('base')",
   "language": "python",
   "name": "python3"
  },
  "language_info": {
   "name": "python",
   "version": "3.9.12"
  },
  "orig_nbformat": 4,
  "vscode": {
   "interpreter": {
    "hash": "aae75fb4c4e28f3fda60e5eda70c237ec76be20ea0bc0d2e1a8874fab74ff8f3"
   }
  }
 },
 "nbformat": 4,
 "nbformat_minor": 2
}
