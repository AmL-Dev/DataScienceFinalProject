{
 "cells": [
  {
   "cell_type": "markdown",
   "metadata": {},
   "source": [
    "# Content base recommendation"
   ]
  },
  {
   "cell_type": "markdown",
   "metadata": {},
   "source": [
    "Import the book profile and user profile and make recommendation"
   ]
  },
  {
   "cell_type": "code",
   "execution_count": 37,
   "metadata": {},
   "outputs": [
    {
     "name": "stdout",
     "output_type": "stream",
     "text": [
      "dict_keys(['title', 'series', 'author', 'genres', 'pages', 'publisher', 'firstPublishDate', 'awards', 'setting', 'words'])\n",
      "['District 12, Panem', 'Capitol, Panem', 'Panem (United States)']\n"
     ]
    }
   ],
   "source": [
    "import json\n",
    "\n",
    "recommendation_user_id = \"14796360\"\n",
    "item_profile = {}\n",
    "file_name = \"item_profile_test.txt\"\n",
    "with open(file_name, 'r', encoding='utf-8') as file:\n",
    "  while (line := file.readline().rstrip()):\n",
    "    item_profile_data = json.loads(line)\n",
    "    item_profile_id = list(item_profile_data.keys())[0]\n",
    "    # Finds the user we want to give recommendation to\n",
    "    if item_profile_id == recommendation_user_id:\n",
    "      item_profile = item_profile_data[item_profile_id]\n",
    "      # print(item_profile.keys())\n",
    "\n",
    "if item_profile == {}:\n",
    "  print(f\"User id {recommendation_user_id} not found. Please try with another user.\")\n",
    "else:\n",
    "  print(item_profile.keys())\n",
    "  print(item_profile['setting'])"
   ]
  },
  {
   "cell_type": "code",
   "execution_count": 232,
   "metadata": {},
   "outputs": [
    {
     "name": "stdout",
     "output_type": "stream",
     "text": [
      "62853\n",
      "dict_keys(['title', 'series', 'author', 'genres', 'pages', 'publisher', 'firstPublishDate', 'awards', 'setting', 'words'])\n"
     ]
    }
   ],
   "source": [
    "import json\n",
    "\n",
    "#ID od the user we want recommendation for\n",
    "recommendation_user_id = \"62853\"\n",
    "\n",
    "# Finds the user we want to give recommendation to\n",
    "user_profile = {}\n",
    "file_name = \"user_profiles_TEST.json\"\n",
    "with open(file_name, 'r', encoding='utf-8') as file:\n",
    "  while (line := file.readline().rstrip()):\n",
    "    user_profile_data = json.loads(line)\n",
    "    user_profile_id = list(user_profile_data.keys())[0]\n",
    "    if user_profile_id == recommendation_user_id:\n",
    "      user_profile = user_profile_data[user_profile_id]\n",
    "      print(user_profile_id)\n",
    "\n",
    "if user_profile == {}:\n",
    "  print(f\"User id {recommendation_user_id} not found. Please try with another user.\")\n",
    "else:\n",
    "  print(user_profile.keys())\n"
   ]
  },
  {
   "cell_type": "code",
   "execution_count": 229,
   "metadata": {},
   "outputs": [
    {
     "data": {
      "text/plain": [
       "datetime.datetime(1960, 11, 7, 0, 0)"
      ]
     },
     "execution_count": 229,
     "metadata": {},
     "output_type": "execute_result"
    }
   ],
   "source": [
    "import datetime\n",
    "input = \"07/11/60\"\n",
    "format = '%d/%m/%y'\n",
    "date = datetime.datetime.strptime(input, format)\n",
    "if date.year > 2020:\n",
    "   date = date.replace(year=date.year-100)\n",
    "date"
   ]
  },
  {
   "cell_type": "code",
   "execution_count": 324,
   "metadata": {},
   "outputs": [
    {
     "name": "stdout",
     "output_type": "stream",
     "text": [
      "Overwriting Recomendation.py\n"
     ]
    }
   ],
   "source": [
    "%%file Recomendation.py\n",
    "\n",
    "from mrjob.job import MRJob\n",
    "from mrjob.step import MRStep\n",
    "import re\n",
    "import json\n",
    "\n",
    "#ID od the user we want recommendation for\n",
    "##########################################\n",
    "recommendation_user_id = \"175208\"\n",
    "##########################################\n",
    "\n",
    "# List of attributes that we take into account \n",
    "string_vector_attributes = ['series', 'author', 'publisher']\n",
    "list_vector_attributes = ['genres', 'awards', 'setting', 'words']\n",
    "int_vector_attributes = {'pages': 3000}#, 'firstPublishDate': 1000} #attribute and inverse coefficient\n",
    "\n",
    "#Takes an input string and returns whether it's \"empty\"\n",
    "def checkNotEmptyInput(input):\n",
    "  # Check if input is not a NaN and not empty\n",
    "  return input == input and input and input != \" \"\n",
    "\n",
    "# Finds the user we want to give recommendation to\n",
    "user_profile = {}\n",
    "user_suqared_norm = 0\n",
    "\n",
    "file_name = \"user_profiles.txt\"\n",
    "with open(file_name, 'r', encoding='utf-8') as file:\n",
    "  while (line := file.readline().rstrip()):\n",
    "    user_profile_data = json.loads(line)\n",
    "    user_profile_id = list(user_profile_data.keys())[0]\n",
    "    if user_profile_id == recommendation_user_id:\n",
    "      # Store the profile vetor\n",
    "      user_profile = user_profile_data[user_profile_id]\n",
    "      # Compute the norm of the user vector\n",
    "      for attribute in string_vector_attributes + list_vector_attributes:\n",
    "        for key, value in user_profile[attribute].items():\n",
    "          if checkNotEmptyInput(key) and checkNotEmptyInput(value):\n",
    "            user_suqared_norm += value**2\n",
    "      for attribute, inv_coeff in int_vector_attributes.items():\n",
    "          value = 0\n",
    "          # Check if there is a value and this value is not a NaN\n",
    "          if checkNotEmptyInput(user_profile[attribute]):\n",
    "            try:\n",
    "              value = (float(user_profile[attribute]) / inv_coeff)\n",
    "              user_suqared_norm += (value**2)\n",
    "            except ValueError:\n",
    "              value = float('nan')\n",
    "          user_profile[attribute] = value\n",
    "      break  \n",
    "      \n",
    "if user_profile == {}:\n",
    "  print(f\"User id {recommendation_user_id} not found. Please try with another user.\")\n",
    "else:\n",
    "\n",
    "\n",
    "  class Recomendation(MRJob):    \n",
    "\n",
    "      def steps(self):\n",
    "          #need to define the order of mappers and reducers, so that the functions takes in the right key and value\n",
    "          #only one mapper and reducer per step, so therefore need several steps\n",
    "          return [ \n",
    "              MRStep(mapper=self.mapper_1, reducer=self.reducer_1)\n",
    "          ]\n",
    "\n",
    "      # the map step: each book vector is read \n",
    "      def mapper_1(self, _, line):\n",
    "          book = json.loads(line)\n",
    "          book_id = list(book.keys())[0]\n",
    "          book = book[book_id]\n",
    "\n",
    "          #Compute the norm of the book id vector\n",
    "          suqared_norm = 0\n",
    "          for attribute in string_vector_attributes:\n",
    "              # Check if not an empty string or NaN\n",
    "              if checkNotEmptyInput(book[attribute]):\n",
    "                  suqared_norm += 1\n",
    "          for attribute in list_vector_attributes:\n",
    "              # Check if not an empty list or NaN\n",
    "              if checkNotEmptyInput(book[attribute]):\n",
    "                for elmt in book[attribute]:\n",
    "                  if checkNotEmptyInput(elmt):\n",
    "                    suqared_norm += 1\n",
    "          for attribute, inv_coeff in int_vector_attributes.items():\n",
    "              value = 0\n",
    "              # Check if there is a value and this value is not a NaN\n",
    "              if checkNotEmptyInput(book[attribute]):# != \"\" or book[attribute] != \" \" or float(book[attribute]) != float(book[attribute]):\n",
    "                  try:\n",
    "                      value = (float(book[attribute]) / inv_coeff)\n",
    "                      suqared_norm += value**2\n",
    "                  except ValueError:\n",
    "                      value = float('nan')\n",
    "              book[attribute] = value\n",
    "          yield book_id, (suqared_norm, book)\n",
    "      \n",
    "      # the reduce step: coompute the cosine similarity between the user profile and every item profile\n",
    "      # Only recommend unread books\n",
    "      def reducer_1(self, book_id, value):\n",
    "          value = list(value)[0]\n",
    "          book_suqared_norm = list(value)[0]\n",
    "          book = list(value)[1]\n",
    "          \n",
    "          # Check that the user havez not read that book\n",
    "          if book[\"title\"] not in user_profile[\"title\"]:\n",
    "\n",
    "            dot_product = 0\n",
    "            for attribute in string_vector_attributes:\n",
    "              # Check if the value of the item vector and user vector is not an empty\n",
    "              if checkNotEmptyInput(book[attribute]) and checkNotEmptyInput(user_profile[attribute]):\n",
    "                for key, value in user_profile[attribute].items():\n",
    "                  if key == book[attribute] and checkNotEmptyInput(value):\n",
    "                    dot_product += value\n",
    "            for attribute in list_vector_attributes:\n",
    "              # Check if the value of the item vector and user vector is not an empty\n",
    "              if checkNotEmptyInput(book[attribute]) and checkNotEmptyInput(user_profile[attribute]):\n",
    "                for key, value in user_profile[attribute].items():\n",
    "                  if checkNotEmptyInput(key) and checkNotEmptyInput(value) and key in book[attribute]:\n",
    "                    dot_product += value\n",
    "            for attribute, inv_coeff in int_vector_attributes.items():\n",
    "              dot_product += (book[attribute] * user_profile[attribute])\n",
    "            \n",
    "\n",
    "            cosine_similartity = dot_product / (user_suqared_norm*book_suqared_norm) if user_suqared_norm*book_suqared_norm != 0 else 0\n",
    "            yield (book_id), (cosine_similartity)\n",
    "\n",
    "  if __name__ == '__main__':\n",
    "      Recomendation.run()"
   ]
  },
  {
   "cell_type": "code",
   "execution_count": 325,
   "metadata": {},
   "outputs": [
    {
     "name": "stderr",
     "output_type": "stream",
     "text": [
      "No configs found; falling back on auto-configuration\n",
      "No configs specified for inline runner\n",
      "Creating temp directory C:\\Users\\Amine\\AppData\\Local\\Temp\\Recomendation.Amine.20221129.161424.425186\n",
      "Running step 1 of 1...\n",
      "job output is in C:\\Users\\Amine\\AppData\\Local\\Temp\\Recomendation.Amine.20221129.161424.425186\\output\n",
      "Streaming final output from C:\\Users\\Amine\\AppData\\Local\\Temp\\Recomendation.Amine.20221129.161424.425186\\output...\n",
      "Removing temp directory C:\\Users\\Amine\\AppData\\Local\\Temp\\Recomendation.Amine.20221129.161424.425186...\n"
     ]
    }
   ],
   "source": [
    "! python Recomendation.py item_profiles.txt > output"
   ]
  },
  {
   "cell_type": "code",
   "execution_count": 341,
   "metadata": {},
   "outputs": [
    {
     "data": {
      "text/html": [
       "<div>\n",
       "<style scoped>\n",
       "    .dataframe tbody tr th:only-of-type {\n",
       "        vertical-align: middle;\n",
       "    }\n",
       "\n",
       "    .dataframe tbody tr th {\n",
       "        vertical-align: top;\n",
       "    }\n",
       "\n",
       "    .dataframe thead th {\n",
       "        text-align: right;\n",
       "    }\n",
       "</style>\n",
       "<table border=\"1\" class=\"dataframe\">\n",
       "  <thead>\n",
       "    <tr style=\"text-align: right;\">\n",
       "      <th></th>\n",
       "      <th>book_id</th>\n",
       "      <th>title</th>\n",
       "      <th>series</th>\n",
       "      <th>author</th>\n",
       "      <th>description</th>\n",
       "      <th>genres</th>\n",
       "      <th>pages</th>\n",
       "      <th>publisher</th>\n",
       "      <th>firstPublishDate</th>\n",
       "      <th>awards</th>\n",
       "      <th>setting</th>\n",
       "      <th>coverImg</th>\n",
       "    </tr>\n",
       "  </thead>\n",
       "  <tbody>\n",
       "    <tr>\n",
       "      <th>0</th>\n",
       "      <td>14796360</td>\n",
       "      <td>The Hunger Games</td>\n",
       "      <td>The Hunger Games #1</td>\n",
       "      <td>Suzanne Collins</td>\n",
       "      <td>WINNING MEANS FAME AND FORTUNE.LOSING MEANS CE...</td>\n",
       "      <td>['Young Adult', 'Fiction', 'Dystopia', 'Fantas...</td>\n",
       "      <td>374</td>\n",
       "      <td>Scholastic Press</td>\n",
       "      <td>NaN</td>\n",
       "      <td>['Locus Award Nominee for Best Young Adult Boo...</td>\n",
       "      <td>['District 12, Panem', 'Capitol, Panem', 'Pane...</td>\n",
       "      <td>https://i.gr-assets.com/images/S/compressed.ph...</td>\n",
       "    </tr>\n",
       "  </tbody>\n",
       "</table>\n",
       "</div>"
      ],
      "text/plain": [
       "    book_id             title               series           author  \\\n",
       "0  14796360  The Hunger Games  The Hunger Games #1  Suzanne Collins   \n",
       "\n",
       "                                         description  \\\n",
       "0  WINNING MEANS FAME AND FORTUNE.LOSING MEANS CE...   \n",
       "\n",
       "                                              genres pages         publisher  \\\n",
       "0  ['Young Adult', 'Fiction', 'Dystopia', 'Fantas...   374  Scholastic Press   \n",
       "\n",
       "  firstPublishDate                                             awards  \\\n",
       "0              NaN  ['Locus Award Nominee for Best Young Adult Boo...   \n",
       "\n",
       "                                             setting  \\\n",
       "0  ['District 12, Panem', 'Capitol, Panem', 'Pane...   \n",
       "\n",
       "                                            coverImg  \n",
       "0  https://i.gr-assets.com/images/S/compressed.ph...  "
      ]
     },
     "execution_count": 341,
     "metadata": {},
     "output_type": "execute_result"
    }
   ],
   "source": [
    "import pandas as pd\n",
    "books_metada = pd.read_csv(\"data/books_metadata.csv\")\n",
    "books_metada.head(1)\n"
   ]
  },
  {
   "cell_type": "code",
   "execution_count": 364,
   "metadata": {},
   "outputs": [
    {
     "data": {
      "text/html": [
       "<table border=\"1\" class=\"dataframe\">\n",
       "  <thead>\n",
       "    <tr style=\"text-align: right;\">\n",
       "      <th></th>\n",
       "      <th>title</th>\n",
       "      <th>author</th>\n",
       "      <th>publisher</th>\n",
       "      <th>coverImg</th>\n",
       "    </tr>\n",
       "  </thead>\n",
       "  <tbody>\n",
       "    <tr>\n",
       "      <th>837</th>\n",
       "      <td>The Dark Tower Omnibus</td>\n",
       "      <td>Robin Furth (Adaptor), Peter David (Adaptor), Jae Lee (Illustrator), Richard Isanove (Illustrator), Stephen King (Goodreads Author) (Story)</td>\n",
       "      <td>Marvel</td>\n",
       "      <td><img src=\"https://i.gr-assets.com/images/S/compressed.photo.goodreads.com/books/1388939782l/10689754.jpg\" width=\"160\" ></td>\n",
       "    </tr>\n",
       "    <tr>\n",
       "      <th>22433</th>\n",
       "      <td>The Day I Swapped My Dad for Two Goldfish</td>\n",
       "      <td>Neil Gaiman (Goodreads Author), Dave McKean (Illustrator)</td>\n",
       "      <td>HarperCollins</td>\n",
       "      <td><img src=\"https://i.gr-assets.com/images/S/compressed.photo.goodreads.com/books/1434923514l/47693._SX318_.jpg\" width=\"160\" ></td>\n",
       "    </tr>\n",
       "    <tr>\n",
       "      <th>23609</th>\n",
       "      <td>Tintin: Complete Companion</td>\n",
       "      <td>Michael Farr, Hergé (Illustrator)</td>\n",
       "      <td>Last Gasp</td>\n",
       "      <td><img src=\"https://i.gr-assets.com/images/S/compressed.photo.goodreads.com/books/1387708583l/87426.jpg\" width=\"160\" ></td>\n",
       "    </tr>\n",
       "    <tr>\n",
       "      <th>2340</th>\n",
       "      <td>The Enchanted Castle</td>\n",
       "      <td>E. Nesbit, H.R. Millar (Illustrator)</td>\n",
       "      <td>Puffin</td>\n",
       "      <td><img src=\"https://i.gr-assets.com/images/S/compressed.photo.goodreads.com/books/1388618545l/45183.jpg\" width=\"160\" ></td>\n",
       "    </tr>\n",
       "    <tr>\n",
       "      <th>18588</th>\n",
       "      <td>The Lord of the Rings: The Making of the Movie Trilogy</td>\n",
       "      <td>Brian Sibley, Ian McKellen (Foreword)</td>\n",
       "      <td>Mariner Books</td>\n",
       "      <td><img src=\"https://i.gr-assets.com/images/S/compressed.photo.goodreads.com/books/1389501592l/7351.jpg\" width=\"160\" ></td>\n",
       "    </tr>\n",
       "    <tr>\n",
       "      <th>7760</th>\n",
       "      <td>The Rainmaker</td>\n",
       "      <td>John Grisham (Goodreads Author)</td>\n",
       "      <td>Delta</td>\n",
       "      <td><img src=\"https://i.gr-assets.com/images/S/compressed.photo.goodreads.com/books/1388265477l/5349.jpg\" width=\"160\" ></td>\n",
       "    </tr>\n",
       "    <tr>\n",
       "      <th>3860</th>\n",
       "      <td>Orphans of the Sky</td>\n",
       "      <td>Robert A. Heinlein</td>\n",
       "      <td>Baen</td>\n",
       "      <td><img src=\"https://i.gr-assets.com/images/S/compressed.photo.goodreads.com/books/1386922510l/50832.jpg\" width=\"160\" ></td>\n",
       "    </tr>\n",
       "    <tr>\n",
       "      <th>3536</th>\n",
       "      <td>Harry Potter and the Order of the Phoenix (Harry Potter, #5, Part 1)</td>\n",
       "      <td>J.K. Rowling</td>\n",
       "      <td>BBC Audiobooks</td>\n",
       "      <td><img src=\"https://i.gr-assets.com/images/S/compressed.photo.goodreads.com/books/1182710609l/1317181._SX318_.jpg\" width=\"160\" ></td>\n",
       "    </tr>\n",
       "    <tr>\n",
       "      <th>7186</th>\n",
       "      <td>Star Wars: The Ultimate Visual Guide</td>\n",
       "      <td>Daniel Wallace (Goodreads Author), Ryder Windham (Goodreads Author)</td>\n",
       "      <td>DK Children</td>\n",
       "      <td><img src=\"https://i.gr-assets.com/images/S/compressed.photo.goodreads.com/books/1388198483l/35402.jpg\" width=\"160\" ></td>\n",
       "    </tr>\n",
       "    <tr>\n",
       "      <th>6426</th>\n",
       "      <td>The Tragical Comedy or Comical Tragedy of Mr. Punch</td>\n",
       "      <td>Neil Gaiman (Goodreads Author), Dave McKean (Illustrator)</td>\n",
       "      <td>Vertigo / DC Comics</td>\n",
       "      <td><img src=\"https://i.gr-assets.com/images/S/compressed.photo.goodreads.com/books/1309580655l/16792.jpg\" width=\"160\" ></td>\n",
       "    </tr>\n",
       "  </tbody>\n",
       "</table>"
      ],
      "text/plain": [
       "<IPython.core.display.HTML object>"
      ]
     },
     "execution_count": 364,
     "metadata": {},
     "output_type": "execute_result"
    }
   ],
   "source": [
    "import pandas as pd\n",
    "\n",
    "book_similarity = []\n",
    "\n",
    "file_name = \"output\"\n",
    "\n",
    "with open(file_name, 'r', encoding='utf-8') as file:\n",
    "  while (line := file.readline().rstrip()):\n",
    "    line = line.split('\\t')\n",
    "    book_id = int(line[0].replace(\"\\\"\", \"\"))\n",
    "    similarity = float(line[1])\n",
    "    book_similarity.append([book_id, similarity])\n",
    "\n",
    "books_metada = pd.read_csv(\"data/books_metadata.csv\")\n",
    "book_similarity_df = pd.DataFrame(book_similarity, columns=[\"book_id\", \"similarity\"])\n",
    "book_similarity_df = book_similarity_df.merge(books_metada, on = \"book_id\")\n",
    "book_similarity_df = book_similarity_df.sort_values(by=\"similarity\", ascending=False)\n",
    "\n",
    "top_ten_recommendation = book_similarity_df[[\"title\", \"author\", \"publisher\", \"coverImg\"]].head(10)\n",
    "\n",
    "# top_ten_recommendation = sorted(book_similarity, key=lambda value: value[1], reverse=True)[:10]\n",
    "\n",
    "# pd.read_csv(\"data/book_metada.csv\")\n",
    "\n",
    "# Importing the necessary librariesimport pandas as pd\n",
    "from IPython.core.display import HTML\n",
    "\n",
    "# Converting links to html tags\n",
    "def path_to_image_html(path):\n",
    "  return '<img src=\"'+ path + '\" width=\"160\" >'\n",
    "\n",
    "# Rendering the images in the dataframe using the HTML method.\n",
    "HTML(top_ten_recommendation.to_html(escape=False,formatters=dict(coverImg=path_to_image_html)))"
   ]
  },
  {
   "cell_type": "code",
   "execution_count": 347,
   "metadata": {},
   "outputs": [
    {
     "name": "stdout",
     "output_type": "stream",
     "text": [
      "374\n",
      "{'title': 'The Hunger Games', 'series': 'The Hunger Games #1', 'author': 'Suzanne Collins', 'description': \"WINNING MEANS FAME AND FORTUNE.LOSING MEANS CERTAIN DEATH.THE HUNGER GAMES HAVE BEGUN. . . .In the ruins of a place once known as North America lies the nation of Panem, a shining Capitol surrounded by twelve outlying districts. The Capitol is harsh and cruel and keeps the districts in line by forcing them all to send one boy and once girl between the ages of twelve and eighteen to participate in the annual Hunger Games, a fight to the death on live TV.Sixteen-year-old Katniss Everdeen regards it as a death sentence when she steps forward to take her sister's place in the Games. But Katniss has been close to dead before—and survival, for her, is second nature. Without really meaning to, she becomes a contender. But if she is to win, she will have to start making choices that weight survival against humanity and life against love.\", 'genres': ['Young Adult', 'Fiction', 'Dystopia', 'Fantasy', 'Science Fiction', 'Romance', 'Adventure', 'Teen', 'Post Apocalyptic', 'Action'], 'pages': '374', 'publisher': 'Scholastic Press', 'firstPublishDate': nan, 'awards': ['Locus Award Nominee for Best Young Adult Book (2009)', 'Georgia Peach Book Award (2009)', 'Buxtehuder Bulle (2009)', 'Golden Duck Award for Young Adult (Hal Clement Award) (2009)', \"Grand Prix de l'Imaginaire Nominee for Roman jeunesse étranger (2010)\", 'Books I Loved Best Yearly (BILBY) Awards for Older Readers (2012)', \"West Australian Young Readers' Book Award (WAYRBA) for Older Readers (2010)\", \"Red House Children's Book Award for Older Readers & Overall (2010)\", 'South Carolina Book Award for Junior and Young Adult Book (2011)', 'Charlotte Award (2010)', 'Colorado Blue Spruce Young Adult Book Award (2010)', 'Teen Buckeye Book Award (2009)', \"Pennsylvania Young Readers' Choice Award for Young Adults (2010)\", 'Rhode Island Teen Book Award (2010)', \"Dorothy Canfield Fisher Children's Book Award (2010)\", 'Evergreen Teen Book Award (2011)', 'Soaring Eagle Book Award (2009)', 'Milwaukee County Teen Book Award Nominee (2010)', 'Sakura Medal for Middle School Book (2010)', 'Michigan Library Association Thumbs Up! Award (2009)', 'Florida Teens Read (2009)', 'Deutscher Jugendliteraturpreis for Preis der Jugendjury (2010)', 'Iowa High School Book Award (2011)', 'New Mexico Land of Enchantment Award for Young Adult (2011)', 'Eliot Rosewater Indiana High School Book Award (2010)', 'The Inky Awards for Silver Inky (2009)', 'California Young Readers Medal for Young Adult (2011)', 'Lincoln Award (2011)', 'Kinderboekwinkelprijs (2010)', 'Missouri Truman Readers Award (2011)', 'CYBILS Award for Young Adult Fantasy & Science Fiction (2008)', 'Literaturpreis der Jury der jungen Leser for Jugendbuch (2010)', 'The Inky Awards Shortlist for Silver Inky (2009)', 'Prix Et-lisez-moi (2011)', 'Missouri Gateway Readers Award (2011)', 'Oklahoma Sequoyah Award for High School and Intermediate (2011)', 'Premio El Templo de las Mil Puertas for Mejor novela extranjera perteneciente a saga (2009)', \"Rebecca Caudill Young Readers' Book Award (2011)\", 'LovelyBooks Leserpreis for Fantasy (2009)', 'LovelyBooks Leserpreis for Bestes Cover/Umschlag (2009)', 'Premi Protagonista Jove for Categoria 13-14 anys (2010)'], 'setting': ['District 12, Panem', 'Capitol, Panem', 'Panem (United States)'], 'coverImg': 'https://i.gr-assets.com/images/S/compressed.photo.goodreads.com/books/1586722975l/2767052.jpg'}\n"
     ]
    }
   ],
   "source": [
    "import json\n",
    "line = '{\"14796360\": {\"title\": \"The Hunger Games\", \"series\": \"The Hunger Games #1\", \"author\": \"Suzanne Collins\", \"description\": \"WINNING MEANS FAME AND FORTUNE.LOSING MEANS CERTAIN DEATH.THE HUNGER GAMES HAVE BEGUN. . . .In the ruins of a place once known as North America lies the nation of Panem, a shining Capitol surrounded by twelve outlying districts. The Capitol is harsh and cruel and keeps the districts in line by forcing them all to send one boy and once girl between the ages of twelve and eighteen to participate in the annual Hunger Games, a fight to the death on live TV.Sixteen-year-old Katniss Everdeen regards it as a death sentence when she steps forward to take her sister\\'s place in the Games. But Katniss has been close to dead before\\u2014and survival, for her, is second nature. Without really meaning to, she becomes a contender. But if she is to win, she will have to start making choices that weight survival against humanity and life against love.\", \"genres\": [\"Young Adult\", \"Fiction\", \"Dystopia\", \"Fantasy\", \"Science Fiction\", \"Romance\", \"Adventure\", \"Teen\", \"Post Apocalyptic\", \"Action\"], \"pages\": \"374\", \"publisher\": \"Scholastic Press\", \"firstPublishDate\": NaN, \"awards\": [\"Locus Award Nominee for Best Young Adult Book (2009)\", \"Georgia Peach Book Award (2009)\", \"Buxtehuder Bulle (2009)\", \"Golden Duck Award for Young Adult (Hal Clement Award) (2009)\", \"Grand Prix de l\\'Imaginaire Nominee for Roman jeunesse \\u00e9tranger (2010)\", \"Books I Loved Best Yearly (BILBY) Awards for Older Readers (2012)\", \"West Australian Young Readers\\' Book Award (WAYRBA) for Older Readers (2010)\", \"Red House Children\\'s Book Award for Older Readers & Overall (2010)\", \"South Carolina Book Award for Junior and Young Adult Book (2011)\", \"Charlotte Award (2010)\", \"Colorado Blue Spruce Young Adult Book Award (2010)\", \"Teen Buckeye Book Award (2009)\", \"Pennsylvania Young Readers\\' Choice Award for Young Adults (2010)\", \"Rhode Island Teen Book Award (2010)\", \"Dorothy Canfield Fisher Children\\'s Book Award (2010)\", \"Evergreen Teen Book Award (2011)\", \"Soaring Eagle Book Award (2009)\", \"Milwaukee County Teen Book Award Nominee (2010)\", \"Sakura Medal for Middle School Book (2010)\", \"Michigan Library Association Thumbs Up! Award (2009)\", \"Florida Teens Read (2009)\", \"Deutscher Jugendliteraturpreis for Preis der Jugendjury (2010)\", \"Iowa High School Book Award (2011)\", \"New Mexico Land of Enchantment Award for Young Adult (2011)\", \"Eliot Rosewater Indiana High School Book Award (2010)\", \"The Inky Awards for Silver Inky (2009)\", \"California Young Readers Medal for Young Adult (2011)\", \"Lincoln Award (2011)\", \"Kinderboekwinkelprijs (2010)\", \"Missouri Truman Readers Award (2011)\", \"CYBILS Award for Young Adult Fantasy & Science Fiction (2008)\", \"Literaturpreis der Jury der jungen Leser for Jugendbuch (2010)\", \"The Inky Awards Shortlist for Silver Inky (2009)\", \"Prix Et-lisez-moi (2011)\", \"Missouri Gateway Readers Award (2011)\", \"Oklahoma Sequoyah Award for High School and Intermediate (2011)\", \"Premio El Templo de las Mil Puertas for Mejor novela extranjera perteneciente a saga (2009)\", \"Rebecca Caudill Young Readers\\' Book Award (2011)\", \"LovelyBooks Leserpreis for Fantasy (2009)\", \"LovelyBooks Leserpreis for Bestes Cover/Umschlag (2009)\", \"Premi Protagonista Jove for Categoria 13-14 anys (2010)\"], \"setting\": [\"District 12, Panem\", \"Capitol, Panem\", \"Panem (United States)\"], \"coverImg\": \"https://i.gr-assets.com/images/S/compressed.photo.goodreads.com/books/1586722975l/2767052.jpg\"}}'\n",
    "data = json.loads(line)\n",
    "book_id = list(data.keys())[0]\n",
    "book = data[book_id]\n",
    "book_vector_attributes = ['title', 'author', 'genres', 'pages', 'publisher', 'firstPublishDate', 'awards', 'setting']\n",
    "book_vector = [book[attribute] for attribute in book_vector_attributes]\n",
    "print(book['pages'])\n",
    "print(data[book_id])"
   ]
  },
  {
   "cell_type": "code",
   "execution_count": 6,
   "metadata": {},
   "outputs": [],
   "source": [
    "user_profile = \"{\\\"14796360\\\": {\\\"title\\\": \\\"The Hunger Games\\\", \\\"series\\\": \\\"The Hunger Games #1\\\", \\\"author\\\": \\\"Suzanne Collins\\\", \\\"description\\\": \\\"Desc.\\\", \\\"genres\\\": [\\\"Young Adult\\\", \\\"Fiction\\\"], \\\"pages\\\": \\\"374\\\", \\\"publisher\\\": \\\"Scholastic Press\\\", \\\"firstPublishDate\\\": \\\"nan\\\", \\\"awards\\\": [\\\"Locus Award Nominee for Best Young Adult Book (2009)\\\", \\\"Georgia Peach Book Award (2009)\\\"], \\\"setting\\\": [\\\"Capitol, Panem\\\", \\\"Panem (United States)\\\"], \\\"coverImg\\\": \\\"https://i.gr-assets.com/images/S/compressed.photo.goodreads.com/books/1586722975l/2767052.jpg\\\"}}\"\n",
    "user_profile = json.loads(user_profile)"
   ]
  },
  {
   "cell_type": "code",
   "execution_count": 7,
   "metadata": {},
   "outputs": [
    {
     "data": {
      "text/plain": [
       "{'authors': [['Suzanne Collins', 2.5]],\n",
       " 'description': \"WINNING MEANS FAME AND FORTUNE.LOSING MEANS CERTAIN DEATH.THE HUNGER GAMES HAVE BEGUN. . . .In the ruins of a place once known as North America lies the nation of Panem, a shining Capitol surrounded by twelve outlying districts. The Capitol is harsh and cruel and keeps the districts in line by forcing them all to send one boy and once girl between the ages of twelve and eighteen to participate in the annual Hunger Games, a fight to the death on live TV.Sixteen-year-old Katniss Everdeen regards it as a death sentence when she steps forward to take her sister's place in the Games. But Katniss has been close to dead before—and survival, for her, is second nature. Without really meaning to, she becomes a contender. But if she is to win, she will have to start making choices that weight survival against humanity and life against love.\",\n",
       " 'genres': [['Young Adult', 4.5],\n",
       "  ['Fiction', 4],\n",
       "  ['Dystopia', 0],\n",
       "  ['Fantasy', 1],\n",
       "  ['Science Fiction', 2.42],\n",
       "  ['MegaAdventure', 2.1]],\n",
       " 'pages': '351',\n",
       " 'publisher': [['Random publisher3', 2.5],\n",
       "  ['Random publisher1', 3.1],\n",
       "  ['Random publisher1', 3.1],\n",
       "  ['Scholastic Press', 3.2]],\n",
       " 'firstPublishDate': 1984,\n",
       " 'awards': [['Locus Award Nominee for Best Young Adult Book (2009)', 4.1],\n",
       "  ['Random award (2010)', 2],\n",
       "  ['Buxtehuder Bulle (2009), NaN'],\n",
       "  ['Golden Duck Award for Young Adult (Hal Clement Award) (2009)', 5],\n",
       "  [\"Pennsylvania Young Readers' Choice Award for Young Adults (2010)\", 2],\n",
       "  ['Great random price (2012)', 4.2],\n",
       "  ['Great random price (2012)', 4.2],\n",
       "  ['Great random price (2012)', 4.2],\n",
       "  ['Great random price (2012)', 4.2]],\n",
       " 'setting': [['Capitol, Panem', 3.1],\n",
       "  ['Random place', 2.5],\n",
       "  ['Spooky place', 1.3],\n",
       "  ['Great place', 4.1],\n",
       "  ['Great place', 4.1],\n",
       "  ['Wow place', 4.1],\n",
       "  ['Surprising place', 4.1],\n",
       "  ['Good place', 4.1]],\n",
       " 'coverImg': 'https://i.gr-assets.com/images/S/compressed.photo.goodreads.com/books/1586722975l/2767052.jpg'}"
      ]
     },
     "execution_count": 7,
     "metadata": {},
     "output_type": "execute_result"
    }
   ],
   "source": [
    "user_profile = '{\"42\": {\"authors\": [[\"Suzanne Collins\", 2.5]], \"description\": \"WINNING MEANS FAME AND FORTUNE.LOSING MEANS CERTAIN DEATH.THE HUNGER GAMES HAVE BEGUN. . . .In the ruins of a place once known as North America lies the nation of Panem, a shining Capitol surrounded by twelve outlying districts. The Capitol is harsh and cruel and keeps the districts in line by forcing them all to send one boy and once girl between the ages of twelve and eighteen to participate in the annual Hunger Games, a fight to the death on live TV.Sixteen-year-old Katniss Everdeen regards it as a death sentence when she steps forward to take her sister\\'s place in the Games. But Katniss has been close to dead before\\u2014and survival, for her, is second nature. Without really meaning to, she becomes a contender. But if she is to win, she will have to start making choices that weight survival against humanity and life against love.\", \"genres\": [[\"Young Adult\", 4.5], [\"Fiction\",4], [\"Dystopia\",0], [\"Fantasy\",1], [\"Science Fiction\", 2.42], [\"MegaAdventure\",2.1]], \"pages\": \"351\", \"publisher\": [[\"Random publisher3\", 2.5], [\"Random publisher1\", 3.1], [\"Random publisher1\", 3.1], [\"Scholastic Press\", 3.2]], \"firstPublishDate\": 1984, \"awards\": [[\"Locus Award Nominee for Best Young Adult Book (2009)\", 4.1], [\"Random award (2010)\", 2], [\"Buxtehuder Bulle (2009), NaN\"], [\"Golden Duck Award for Young Adult (Hal Clement Award) (2009)\", 5], [\"Pennsylvania Young Readers\\' Choice Award for Young Adults (2010)\", 2], [\"Great random price (2012)\", 4.2], [\"Great random price (2012)\", 4.2], [\"Great random price (2012)\", 4.2], [\"Great random price (2012)\", 4.2]], \"setting\": [[\"Capitol, Panem\", 3.1], [\"Random place\", 2.5], [\"Spooky place\", 1.3], [\"Great place\", 4.1], [\"Great place\", 4.1], [\"Wow place\", 4.1], [\"Surprising place\", 4.1], [\"Good place\", 4.1]], \"coverImg\": \"https://i.gr-assets.com/images/S/compressed.photo.goodreads.com/books/1586722975l/2767052.jpg\"}}'\n",
    "user_profile = json.loads(user_profile)\n",
    "user_profile[\"42\"]"
   ]
  },
  {
   "cell_type": "code",
   "execution_count": 8,
   "metadata": {},
   "outputs": [
    {
     "name": "stderr",
     "output_type": "stream",
     "text": [
      "No configs found; falling back on auto-configuration\n",
      "No configs specified for inline runner\n",
      "Traceback (most recent call last):\n",
      "  File \"c:\\Users\\Amine\\Documents\\Amine\\INSA\\INSA_5IF_DTU\\Computational_Tools_For_Data_Science\\Project\\DataScienceFinalProject\\Recomendation.py\", line 62, in <module>\n",
      "    Recomendation.run()\n",
      "  File \"C:\\Users\\Amine\\AppData\\Roaming\\Python\\Python39\\site-packages\\mrjob\\job.py\", line 616, in run\n",
      "    cls().execute()\n",
      "  File \"C:\\Users\\Amine\\AppData\\Roaming\\Python\\Python39\\site-packages\\mrjob\\job.py\", line 687, in execute\n",
      "    self.run_job()\n",
      "  File \"C:\\Users\\Amine\\AppData\\Roaming\\Python\\Python39\\site-packages\\mrjob\\job.py\", line 636, in run_job\n",
      "    runner.run()\n",
      "  File \"C:\\Users\\Amine\\AppData\\Roaming\\Python\\Python39\\site-packages\\mrjob\\runner.py\", line 500, in run\n",
      "    self._check_input_paths()\n",
      "  File \"C:\\Users\\Amine\\AppData\\Roaming\\Python\\Python39\\site-packages\\mrjob\\runner.py\", line 1133, in _check_input_paths\n",
      "    self._check_input_path(path)\n",
      "  File \"C:\\Users\\Amine\\AppData\\Roaming\\Python\\Python39\\site-packages\\mrjob\\runner.py\", line 1146, in _check_input_path\n",
      "    raise IOError(\n",
      "OSError: Input path test.txt does not exist!\n"
     ]
    }
   ],
   "source": [
    "! python Recomendation.py test.txt"
   ]
  },
  {
   "cell_type": "code",
   "execution_count": null,
   "metadata": {},
   "outputs": [],
   "source": []
  }
 ],
 "metadata": {
  "kernelspec": {
   "display_name": "Python 3.9.13 ('base')",
   "language": "python",
   "name": "python3"
  },
  "language_info": {
   "codemirror_mode": {
    "name": "ipython",
    "version": 3
   },
   "file_extension": ".py",
   "mimetype": "text/x-python",
   "name": "python",
   "nbconvert_exporter": "python",
   "pygments_lexer": "ipython3",
   "version": "3.9.13"
  },
  "orig_nbformat": 4,
  "vscode": {
   "interpreter": {
    "hash": "7a7bc949ac09e1311def83ae0b9d9fa997b438448c6e4b9a59dc0c484a51e208"
   }
  }
 },
 "nbformat": 4,
 "nbformat_minor": 2
}
