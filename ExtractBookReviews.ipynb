{
 "cells": [
  {
   "cell_type": "markdown",
   "metadata": {},
   "source": [
    "# Data preparation"
   ]
  },
  {
   "cell_type": "markdown",
   "metadata": {},
   "source": [
    "The goal of this notebook is to prepare the data for the project. In particular, we map the book's metadata (especially the summary) that comes from one dataset to the list of user-book ratings."
   ]
  },
  {
   "cell_type": "code",
   "execution_count": 1,
   "metadata": {},
   "outputs": [],
   "source": [
    "import pandas as pd"
   ]
  },
  {
   "cell_type": "markdown",
   "metadata": {},
   "source": [
    "### Extract books complete metadata, including description (books_1.Best_Books_Ever.csv)"
   ]
  },
  {
   "cell_type": "code",
   "execution_count": 2,
   "metadata": {},
   "outputs": [
    {
     "data": {
      "text/plain": [
       "52478"
      ]
     },
     "execution_count": 2,
     "metadata": {},
     "output_type": "execute_result"
    }
   ],
   "source": [
    "books_full_metadata = pd.read_csv('../books_1.Best_Books_Ever.csv')\n",
    "books_full_metadata.head(1)\n",
    "len(books_full_metadata)"
   ]
  },
  {
   "cell_type": "markdown",
   "metadata": {},
   "source": [
    "Keep only boks that are in english"
   ]
  },
  {
   "cell_type": "code",
   "execution_count": 3,
   "metadata": {},
   "outputs": [
    {
     "data": {
      "text/plain": [
       "42661"
      ]
     },
     "execution_count": 3,
     "metadata": {},
     "output_type": "execute_result"
    }
   ],
   "source": [
    "books_full_metadata = books_full_metadata[books_full_metadata[\"language\"] == \"English\"]\n",
    "len(books_full_metadata)"
   ]
  },
  {
   "cell_type": "markdown",
   "metadata": {},
   "source": [
    "Get only the features we are interested in"
   ]
  },
  {
   "cell_type": "code",
   "execution_count": 4,
   "metadata": {},
   "outputs": [],
   "source": [
    "books_full_metadata = books_full_metadata[[\"title\",\"series\",\"author\",\"description\",\"genres\",\"pages\", \"publisher\",\"firstPublishDate\",\"awards\",\"setting\",\"coverImg\"]]"
   ]
  },
  {
   "cell_type": "markdown",
   "metadata": {},
   "source": [
    "Parse titles"
   ]
  },
  {
   "cell_type": "code",
   "execution_count": 5,
   "metadata": {},
   "outputs": [
    {
     "data": {
      "text/html": [
       "<div>\n",
       "<style scoped>\n",
       "    .dataframe tbody tr th:only-of-type {\n",
       "        vertical-align: middle;\n",
       "    }\n",
       "\n",
       "    .dataframe tbody tr th {\n",
       "        vertical-align: top;\n",
       "    }\n",
       "\n",
       "    .dataframe thead th {\n",
       "        text-align: right;\n",
       "    }\n",
       "</style>\n",
       "<table border=\"1\" class=\"dataframe\">\n",
       "  <thead>\n",
       "    <tr style=\"text-align: right;\">\n",
       "      <th></th>\n",
       "      <th>title</th>\n",
       "      <th>series</th>\n",
       "      <th>author</th>\n",
       "      <th>description</th>\n",
       "      <th>genres</th>\n",
       "      <th>pages</th>\n",
       "      <th>publisher</th>\n",
       "      <th>firstPublishDate</th>\n",
       "      <th>awards</th>\n",
       "      <th>setting</th>\n",
       "      <th>coverImg</th>\n",
       "      <th>mod_title</th>\n",
       "    </tr>\n",
       "  </thead>\n",
       "  <tbody>\n",
       "    <tr>\n",
       "      <th>100</th>\n",
       "      <td>Moby-Dick or, the Whale</td>\n",
       "      <td>NaN</td>\n",
       "      <td>Herman Melville, Andrew Delbanco (Introduction...</td>\n",
       "      <td>\"It is the horrible texture of a fabric that s...</td>\n",
       "      <td>['Classics', 'Fiction', 'Literature', 'Adventu...</td>\n",
       "      <td>654</td>\n",
       "      <td>Penguin Classics</td>\n",
       "      <td>10/18/51</td>\n",
       "      <td>['Audie Award for Solo Narration - Male (2006)...</td>\n",
       "      <td>['Nantucket Island, Massachusetts (United Stat...</td>\n",
       "      <td>https://i.gr-assets.com/images/S/compressed.ph...</td>\n",
       "      <td>mobydick or the whale</td>\n",
       "    </tr>\n",
       "  </tbody>\n",
       "</table>\n",
       "</div>"
      ],
      "text/plain": [
       "                       title series  \\\n",
       "100  Moby-Dick or, the Whale    NaN   \n",
       "\n",
       "                                                author  \\\n",
       "100  Herman Melville, Andrew Delbanco (Introduction...   \n",
       "\n",
       "                                           description  \\\n",
       "100  \"It is the horrible texture of a fabric that s...   \n",
       "\n",
       "                                                genres pages  \\\n",
       "100  ['Classics', 'Fiction', 'Literature', 'Adventu...   654   \n",
       "\n",
       "            publisher firstPublishDate  \\\n",
       "100  Penguin Classics         10/18/51   \n",
       "\n",
       "                                                awards  \\\n",
       "100  ['Audie Award for Solo Narration - Male (2006)...   \n",
       "\n",
       "                                               setting  \\\n",
       "100  ['Nantucket Island, Massachusetts (United Stat...   \n",
       "\n",
       "                                              coverImg              mod_title  \n",
       "100  https://i.gr-assets.com/images/S/compressed.ph...  mobydick or the whale  "
      ]
     },
     "execution_count": 5,
     "metadata": {},
     "output_type": "execute_result"
    }
   ],
   "source": [
    "books_full_metadata['mod_title'] = books_full_metadata['title'].str.replace(\"\\s+\", \" \", regex=True) #Remove multiple spaces in a row\n",
    "books_full_metadata['mod_title'] = books_full_metadata['mod_title'].str.replace(\"[^\\w\\s]\", \"\", regex=True).str.lower() #Remove punctuation and change to lower case\n",
    "books_full_metadata[books_full_metadata[\"mod_title\"] == \"mobydick or the whale\"]"
   ]
  },
  {
   "cell_type": "markdown",
   "metadata": {},
   "source": [
    "Remove books that have the same title "
   ]
  },
  {
   "cell_type": "code",
   "execution_count": 6,
   "metadata": {},
   "outputs": [],
   "source": [
    "duplicate_book = books_full_metadata[books_full_metadata[\"mod_title\"].isin(books_full_metadata[\"mod_title\"][books_full_metadata[\"mod_title\"].duplicated()])].sort_values(\"mod_title\").index\n",
    "books_full_metadata = books_full_metadata.drop(duplicate_book)"
   ]
  },
  {
   "cell_type": "code",
   "execution_count": 7,
   "metadata": {},
   "outputs": [
    {
     "data": {
      "text/plain": [
       "38829"
      ]
     },
     "execution_count": 7,
     "metadata": {},
     "output_type": "execute_result"
    }
   ],
   "source": [
    "len(books_full_metadata)"
   ]
  },
  {
   "cell_type": "markdown",
   "metadata": {},
   "source": [
    "### Extract goodreads books incomplete metadata (books_titles.json)"
   ]
  },
  {
   "cell_type": "code",
   "execution_count": 19,
   "metadata": {},
   "outputs": [
    {
     "data": {
      "text/html": [
       "<div>\n",
       "<style scoped>\n",
       "    .dataframe tbody tr th:only-of-type {\n",
       "        vertical-align: middle;\n",
       "    }\n",
       "\n",
       "    .dataframe tbody tr th {\n",
       "        vertical-align: top;\n",
       "    }\n",
       "\n",
       "    .dataframe thead th {\n",
       "        text-align: right;\n",
       "    }\n",
       "</style>\n",
       "<table border=\"1\" class=\"dataframe\">\n",
       "  <thead>\n",
       "    <tr style=\"text-align: right;\">\n",
       "      <th></th>\n",
       "      <th>book_id</th>\n",
       "      <th>url</th>\n",
       "      <th>cover_image</th>\n",
       "      <th>mod_title</th>\n",
       "    </tr>\n",
       "  </thead>\n",
       "  <tbody>\n",
       "    <tr>\n",
       "      <th>0</th>\n",
       "      <td>1333909</td>\n",
       "      <td>https://www.goodreads.com/book/show/1333909.Go...</td>\n",
       "      <td>https://s.gr-assets.com/assets/nophoto/book/11...</td>\n",
       "      <td>good harbor</td>\n",
       "    </tr>\n",
       "    <tr>\n",
       "      <th>1</th>\n",
       "      <td>7327624</td>\n",
       "      <td>https://www.goodreads.com/book/show/7327624-th...</td>\n",
       "      <td>https://images.gr-assets.com/books/1304100136m...</td>\n",
       "      <td>the unschooled wizard sun wolf and starhawk 12</td>\n",
       "    </tr>\n",
       "    <tr>\n",
       "      <th>2</th>\n",
       "      <td>6066819</td>\n",
       "      <td>https://www.goodreads.com/book/show/6066819-be...</td>\n",
       "      <td>https://s.gr-assets.com/assets/nophoto/book/11...</td>\n",
       "      <td>best friends forever</td>\n",
       "    </tr>\n",
       "    <tr>\n",
       "      <th>3</th>\n",
       "      <td>287140</td>\n",
       "      <td>https://www.goodreads.com/book/show/287140.Run...</td>\n",
       "      <td>https://images.gr-assets.com/books/1413219371m...</td>\n",
       "      <td>runic astrology starcraft and timekeeping in t...</td>\n",
       "    </tr>\n",
       "    <tr>\n",
       "      <th>4</th>\n",
       "      <td>287141</td>\n",
       "      <td>https://www.goodreads.com/book/show/287141.The...</td>\n",
       "      <td>https://s.gr-assets.com/assets/nophoto/book/11...</td>\n",
       "      <td>the aeneid for boys and girls</td>\n",
       "    </tr>\n",
       "  </tbody>\n",
       "</table>\n",
       "</div>"
      ],
      "text/plain": [
       "   book_id                                                url  \\\n",
       "0  1333909  https://www.goodreads.com/book/show/1333909.Go...   \n",
       "1  7327624  https://www.goodreads.com/book/show/7327624-th...   \n",
       "2  6066819  https://www.goodreads.com/book/show/6066819-be...   \n",
       "3   287140  https://www.goodreads.com/book/show/287140.Run...   \n",
       "4   287141  https://www.goodreads.com/book/show/287141.The...   \n",
       "\n",
       "                                         cover_image  \\\n",
       "0  https://s.gr-assets.com/assets/nophoto/book/11...   \n",
       "1  https://images.gr-assets.com/books/1304100136m...   \n",
       "2  https://s.gr-assets.com/assets/nophoto/book/11...   \n",
       "3  https://images.gr-assets.com/books/1413219371m...   \n",
       "4  https://s.gr-assets.com/assets/nophoto/book/11...   \n",
       "\n",
       "                                           mod_title  \n",
       "0                                        good harbor  \n",
       "1     the unschooled wizard sun wolf and starhawk 12  \n",
       "2                               best friends forever  \n",
       "3  runic astrology starcraft and timekeeping in t...  \n",
       "4                      the aeneid for boys and girls  "
      ]
     },
     "execution_count": 19,
     "metadata": {},
     "output_type": "execute_result"
    }
   ],
   "source": [
    "books_partial_metadata = pd.read_json(\"../books_titles.json\")\n",
    "books_partial_metadata[\"book_id\"] = books_partial_metadata[\"book_id\"].astype(str)\n",
    "books_partial_metadata = books_partial_metadata.drop(columns=[\"title\", \"ratings\"])\n",
    "books_partial_metadata.head()"
   ]
  },
  {
   "cell_type": "code",
   "execution_count": 20,
   "metadata": {},
   "outputs": [
    {
     "data": {
      "text/plain": [
       "1227673"
      ]
     },
     "execution_count": 20,
     "metadata": {},
     "output_type": "execute_result"
    }
   ],
   "source": [
    "len(books_partial_metadata[\"mod_title\"].unique())"
   ]
  },
  {
   "cell_type": "markdown",
   "metadata": {},
   "source": [
    "### Import mapping between book ids in the csv and books_titles.json file (book_id_map.csv)"
   ]
  },
  {
   "cell_type": "code",
   "execution_count": 21,
   "metadata": {},
   "outputs": [],
   "source": [
    "csv_book_mapping = {}\n",
    "\n",
    "with open(\"../book_id_map.csv\", \"r\") as file: #Reading through large file\n",
    "    next(file) #Skip header\n",
    "    while (line := file.readline().rstrip()):\n",
    "        csv_id, book_id = line.strip().split(\",\")\n",
    "        csv_book_mapping[csv_id] = book_id"
   ]
  },
  {
   "cell_type": "markdown",
   "metadata": {},
   "source": [
    "### Find the intersetion between the two book descriptions dataframes"
   ]
  },
  {
   "cell_type": "code",
   "execution_count": 22,
   "metadata": {},
   "outputs": [],
   "source": [
    "books_intersection_full_partial = pd.merge(books_full_metadata, books_partial_metadata, how ='inner', on =['mod_title'])"
   ]
  },
  {
   "cell_type": "code",
   "execution_count": 23,
   "metadata": {},
   "outputs": [
    {
     "data": {
      "text/html": [
       "<div>\n",
       "<style scoped>\n",
       "    .dataframe tbody tr th:only-of-type {\n",
       "        vertical-align: middle;\n",
       "    }\n",
       "\n",
       "    .dataframe tbody tr th {\n",
       "        vertical-align: top;\n",
       "    }\n",
       "\n",
       "    .dataframe thead th {\n",
       "        text-align: right;\n",
       "    }\n",
       "</style>\n",
       "<table border=\"1\" class=\"dataframe\">\n",
       "  <thead>\n",
       "    <tr style=\"text-align: right;\">\n",
       "      <th></th>\n",
       "      <th>title</th>\n",
       "      <th>series</th>\n",
       "      <th>author</th>\n",
       "      <th>description</th>\n",
       "      <th>genres</th>\n",
       "      <th>pages</th>\n",
       "      <th>publisher</th>\n",
       "      <th>firstPublishDate</th>\n",
       "      <th>awards</th>\n",
       "      <th>setting</th>\n",
       "      <th>coverImg</th>\n",
       "      <th>mod_title</th>\n",
       "      <th>url</th>\n",
       "      <th>cover_image</th>\n",
       "    </tr>\n",
       "    <tr>\n",
       "      <th>book_id</th>\n",
       "      <th></th>\n",
       "      <th></th>\n",
       "      <th></th>\n",
       "      <th></th>\n",
       "      <th></th>\n",
       "      <th></th>\n",
       "      <th></th>\n",
       "      <th></th>\n",
       "      <th></th>\n",
       "      <th></th>\n",
       "      <th></th>\n",
       "      <th></th>\n",
       "      <th></th>\n",
       "      <th></th>\n",
       "    </tr>\n",
       "  </thead>\n",
       "  <tbody>\n",
       "    <tr>\n",
       "      <th>14796360</th>\n",
       "      <td>The Hunger Games</td>\n",
       "      <td>The Hunger Games #1</td>\n",
       "      <td>Suzanne Collins</td>\n",
       "      <td>WINNING MEANS FAME AND FORTUNE.LOSING MEANS CE...</td>\n",
       "      <td>['Young Adult', 'Fiction', 'Dystopia', 'Fantas...</td>\n",
       "      <td>374</td>\n",
       "      <td>Scholastic Press</td>\n",
       "      <td>NaN</td>\n",
       "      <td>['Locus Award Nominee for Best Young Adult Boo...</td>\n",
       "      <td>['District 12, Panem', 'Capitol, Panem', 'Pane...</td>\n",
       "      <td>https://i.gr-assets.com/images/S/compressed.ph...</td>\n",
       "      <td>the hunger games</td>\n",
       "      <td>https://www.goodreads.com/book/show/14796360-t...</td>\n",
       "      <td>https://images.gr-assets.com/books/1355036953m...</td>\n",
       "    </tr>\n",
       "    <tr>\n",
       "      <th>11534111</th>\n",
       "      <td>The Hunger Games</td>\n",
       "      <td>The Hunger Games #1</td>\n",
       "      <td>Suzanne Collins</td>\n",
       "      <td>WINNING MEANS FAME AND FORTUNE.LOSING MEANS CE...</td>\n",
       "      <td>['Young Adult', 'Fiction', 'Dystopia', 'Fantas...</td>\n",
       "      <td>374</td>\n",
       "      <td>Scholastic Press</td>\n",
       "      <td>NaN</td>\n",
       "      <td>['Locus Award Nominee for Best Young Adult Boo...</td>\n",
       "      <td>['District 12, Panem', 'Capitol, Panem', 'Pane...</td>\n",
       "      <td>https://i.gr-assets.com/images/S/compressed.ph...</td>\n",
       "      <td>the hunger games</td>\n",
       "      <td>https://www.goodreads.com/book/show/11534111-t...</td>\n",
       "      <td>https://images.gr-assets.com/books/1328214586m...</td>\n",
       "    </tr>\n",
       "    <tr>\n",
       "      <th>15784152</th>\n",
       "      <td>The Hunger Games</td>\n",
       "      <td>The Hunger Games #1</td>\n",
       "      <td>Suzanne Collins</td>\n",
       "      <td>WINNING MEANS FAME AND FORTUNE.LOSING MEANS CE...</td>\n",
       "      <td>['Young Adult', 'Fiction', 'Dystopia', 'Fantas...</td>\n",
       "      <td>374</td>\n",
       "      <td>Scholastic Press</td>\n",
       "      <td>NaN</td>\n",
       "      <td>['Locus Award Nominee for Best Young Adult Boo...</td>\n",
       "      <td>['District 12, Panem', 'Capitol, Panem', 'Pane...</td>\n",
       "      <td>https://i.gr-assets.com/images/S/compressed.ph...</td>\n",
       "      <td>the hunger games</td>\n",
       "      <td>https://www.goodreads.com/book/show/15784152-t...</td>\n",
       "      <td>https://images.gr-assets.com/books/1344000603m...</td>\n",
       "    </tr>\n",
       "    <tr>\n",
       "      <th>14289293</th>\n",
       "      <td>The Hunger Games</td>\n",
       "      <td>The Hunger Games #1</td>\n",
       "      <td>Suzanne Collins</td>\n",
       "      <td>WINNING MEANS FAME AND FORTUNE.LOSING MEANS CE...</td>\n",
       "      <td>['Young Adult', 'Fiction', 'Dystopia', 'Fantas...</td>\n",
       "      <td>374</td>\n",
       "      <td>Scholastic Press</td>\n",
       "      <td>NaN</td>\n",
       "      <td>['Locus Award Nominee for Best Young Adult Boo...</td>\n",
       "      <td>['District 12, Panem', 'Capitol, Panem', 'Pane...</td>\n",
       "      <td>https://i.gr-assets.com/images/S/compressed.ph...</td>\n",
       "      <td>the hunger games</td>\n",
       "      <td>https://www.goodreads.com/book/show/14289293-t...</td>\n",
       "      <td>https://images.gr-assets.com/books/1337792923m...</td>\n",
       "    </tr>\n",
       "    <tr>\n",
       "      <th>16051061</th>\n",
       "      <td>The Hunger Games</td>\n",
       "      <td>The Hunger Games #1</td>\n",
       "      <td>Suzanne Collins</td>\n",
       "      <td>WINNING MEANS FAME AND FORTUNE.LOSING MEANS CE...</td>\n",
       "      <td>['Young Adult', 'Fiction', 'Dystopia', 'Fantas...</td>\n",
       "      <td>374</td>\n",
       "      <td>Scholastic Press</td>\n",
       "      <td>NaN</td>\n",
       "      <td>['Locus Award Nominee for Best Young Adult Boo...</td>\n",
       "      <td>['District 12, Panem', 'Capitol, Panem', 'Pane...</td>\n",
       "      <td>https://i.gr-assets.com/images/S/compressed.ph...</td>\n",
       "      <td>the hunger games</td>\n",
       "      <td>https://www.goodreads.com/book/show/16051061-t...</td>\n",
       "      <td>https://images.gr-assets.com/books/1363545717m...</td>\n",
       "    </tr>\n",
       "    <tr>\n",
       "      <th>...</th>\n",
       "      <td>...</td>\n",
       "      <td>...</td>\n",
       "      <td>...</td>\n",
       "      <td>...</td>\n",
       "      <td>...</td>\n",
       "      <td>...</td>\n",
       "      <td>...</td>\n",
       "      <td>...</td>\n",
       "      <td>...</td>\n",
       "      <td>...</td>\n",
       "      <td>...</td>\n",
       "      <td>...</td>\n",
       "      <td>...</td>\n",
       "      <td>...</td>\n",
       "    </tr>\n",
       "    <tr>\n",
       "      <th>270435</th>\n",
       "      <td>Heal Your Body: The Mental Causes for Physical...</td>\n",
       "      <td>NaN</td>\n",
       "      <td>Louise L. Hay</td>\n",
       "      <td>Heal Your Body is a fresh and easy step-by-ste...</td>\n",
       "      <td>['Self Help', 'Health', 'Nonfiction', 'Spiritu...</td>\n",
       "      <td>96</td>\n",
       "      <td>Hay House</td>\n",
       "      <td>May 1st 1976</td>\n",
       "      <td>[]</td>\n",
       "      <td>[]</td>\n",
       "      <td>https://i.gr-assets.com/images/S/compressed.ph...</td>\n",
       "      <td>heal your body the mental causes for physical ...</td>\n",
       "      <td>https://www.goodreads.com/book/show/270435.Hea...</td>\n",
       "      <td>https://images.gr-assets.com/books/1404193356m...</td>\n",
       "    </tr>\n",
       "    <tr>\n",
       "      <th>15840361</th>\n",
       "      <td>Heal Your Body: The Mental Causes for Physical...</td>\n",
       "      <td>NaN</td>\n",
       "      <td>Louise L. Hay</td>\n",
       "      <td>Heal Your Body is a fresh and easy step-by-ste...</td>\n",
       "      <td>['Self Help', 'Health', 'Nonfiction', 'Spiritu...</td>\n",
       "      <td>96</td>\n",
       "      <td>Hay House</td>\n",
       "      <td>May 1st 1976</td>\n",
       "      <td>[]</td>\n",
       "      <td>[]</td>\n",
       "      <td>https://i.gr-assets.com/images/S/compressed.ph...</td>\n",
       "      <td>heal your body the mental causes for physical ...</td>\n",
       "      <td>https://www.goodreads.com/book/show/15840361-h...</td>\n",
       "      <td>https://images.gr-assets.com/books/1345590708m...</td>\n",
       "    </tr>\n",
       "    <tr>\n",
       "      <th>11115191</th>\n",
       "      <td>Attracted to Fire</td>\n",
       "      <td>NaN</td>\n",
       "      <td>DiAnn Mills (Goodreads Author)</td>\n",
       "      <td>Special Agent Meghan Connors' dream of one day...</td>\n",
       "      <td>['Christian Fiction', 'Christian', 'Suspense',...</td>\n",
       "      <td>416</td>\n",
       "      <td>Tyndale House Publishers</td>\n",
       "      <td>September 16th 2011</td>\n",
       "      <td>['HOLT Medallion by Virginia Romance Writers N...</td>\n",
       "      <td>['West Texas (United States)']</td>\n",
       "      <td>https://i.gr-assets.com/images/S/compressed.ph...</td>\n",
       "      <td>attracted to fire</td>\n",
       "      <td>https://www.goodreads.com/book/show/11115191-a...</td>\n",
       "      <td>https://s.gr-assets.com/assets/nophoto/book/11...</td>\n",
       "    </tr>\n",
       "    <tr>\n",
       "      <th>602931</th>\n",
       "      <td>Anasazi</td>\n",
       "      <td>Sense of Truth #2</td>\n",
       "      <td>Emma Michaels</td>\n",
       "      <td>'Anasazi', sequel to 'The Thirteenth Chime' by...</td>\n",
       "      <td>['Mystery', 'Young Adult']</td>\n",
       "      <td>190</td>\n",
       "      <td>Bokheim Publishing</td>\n",
       "      <td>August 3rd 2011</td>\n",
       "      <td>[]</td>\n",
       "      <td>[]</td>\n",
       "      <td>https://i.gr-assets.com/images/S/compressed.ph...</td>\n",
       "      <td>anasazi</td>\n",
       "      <td>https://www.goodreads.com/book/show/602931.Ana...</td>\n",
       "      <td>https://images.gr-assets.com/books/1287546026m...</td>\n",
       "    </tr>\n",
       "    <tr>\n",
       "      <th>3959958</th>\n",
       "      <td>Anasazi</td>\n",
       "      <td>Sense of Truth #2</td>\n",
       "      <td>Emma Michaels</td>\n",
       "      <td>'Anasazi', sequel to 'The Thirteenth Chime' by...</td>\n",
       "      <td>['Mystery', 'Young Adult']</td>\n",
       "      <td>190</td>\n",
       "      <td>Bokheim Publishing</td>\n",
       "      <td>August 3rd 2011</td>\n",
       "      <td>[]</td>\n",
       "      <td>[]</td>\n",
       "      <td>https://i.gr-assets.com/images/S/compressed.ph...</td>\n",
       "      <td>anasazi</td>\n",
       "      <td>https://www.goodreads.com/book/show/3959958-an...</td>\n",
       "      <td>https://s.gr-assets.com/assets/nophoto/book/11...</td>\n",
       "    </tr>\n",
       "  </tbody>\n",
       "</table>\n",
       "<p>130808 rows × 14 columns</p>\n",
       "</div>"
      ],
      "text/plain": [
       "                                                      title  \\\n",
       "book_id                                                       \n",
       "14796360                                   The Hunger Games   \n",
       "11534111                                   The Hunger Games   \n",
       "15784152                                   The Hunger Games   \n",
       "14289293                                   The Hunger Games   \n",
       "16051061                                   The Hunger Games   \n",
       "...                                                     ...   \n",
       "270435    Heal Your Body: The Mental Causes for Physical...   \n",
       "15840361  Heal Your Body: The Mental Causes for Physical...   \n",
       "11115191                                  Attracted to Fire   \n",
       "602931                                              Anasazi   \n",
       "3959958                                             Anasazi   \n",
       "\n",
       "                       series                          author  \\\n",
       "book_id                                                         \n",
       "14796360  The Hunger Games #1                 Suzanne Collins   \n",
       "11534111  The Hunger Games #1                 Suzanne Collins   \n",
       "15784152  The Hunger Games #1                 Suzanne Collins   \n",
       "14289293  The Hunger Games #1                 Suzanne Collins   \n",
       "16051061  The Hunger Games #1                 Suzanne Collins   \n",
       "...                       ...                             ...   \n",
       "270435                    NaN                   Louise L. Hay   \n",
       "15840361                  NaN                   Louise L. Hay   \n",
       "11115191                  NaN  DiAnn Mills (Goodreads Author)   \n",
       "602931      Sense of Truth #2                   Emma Michaels   \n",
       "3959958     Sense of Truth #2                   Emma Michaels   \n",
       "\n",
       "                                                description  \\\n",
       "book_id                                                       \n",
       "14796360  WINNING MEANS FAME AND FORTUNE.LOSING MEANS CE...   \n",
       "11534111  WINNING MEANS FAME AND FORTUNE.LOSING MEANS CE...   \n",
       "15784152  WINNING MEANS FAME AND FORTUNE.LOSING MEANS CE...   \n",
       "14289293  WINNING MEANS FAME AND FORTUNE.LOSING MEANS CE...   \n",
       "16051061  WINNING MEANS FAME AND FORTUNE.LOSING MEANS CE...   \n",
       "...                                                     ...   \n",
       "270435    Heal Your Body is a fresh and easy step-by-ste...   \n",
       "15840361  Heal Your Body is a fresh and easy step-by-ste...   \n",
       "11115191  Special Agent Meghan Connors' dream of one day...   \n",
       "602931    'Anasazi', sequel to 'The Thirteenth Chime' by...   \n",
       "3959958   'Anasazi', sequel to 'The Thirteenth Chime' by...   \n",
       "\n",
       "                                                     genres pages  \\\n",
       "book_id                                                             \n",
       "14796360  ['Young Adult', 'Fiction', 'Dystopia', 'Fantas...   374   \n",
       "11534111  ['Young Adult', 'Fiction', 'Dystopia', 'Fantas...   374   \n",
       "15784152  ['Young Adult', 'Fiction', 'Dystopia', 'Fantas...   374   \n",
       "14289293  ['Young Adult', 'Fiction', 'Dystopia', 'Fantas...   374   \n",
       "16051061  ['Young Adult', 'Fiction', 'Dystopia', 'Fantas...   374   \n",
       "...                                                     ...   ...   \n",
       "270435    ['Self Help', 'Health', 'Nonfiction', 'Spiritu...    96   \n",
       "15840361  ['Self Help', 'Health', 'Nonfiction', 'Spiritu...    96   \n",
       "11115191  ['Christian Fiction', 'Christian', 'Suspense',...   416   \n",
       "602931                           ['Mystery', 'Young Adult']   190   \n",
       "3959958                          ['Mystery', 'Young Adult']   190   \n",
       "\n",
       "                         publisher     firstPublishDate  \\\n",
       "book_id                                                   \n",
       "14796360          Scholastic Press                  NaN   \n",
       "11534111          Scholastic Press                  NaN   \n",
       "15784152          Scholastic Press                  NaN   \n",
       "14289293          Scholastic Press                  NaN   \n",
       "16051061          Scholastic Press                  NaN   \n",
       "...                            ...                  ...   \n",
       "270435                   Hay House         May 1st 1976   \n",
       "15840361                 Hay House         May 1st 1976   \n",
       "11115191  Tyndale House Publishers  September 16th 2011   \n",
       "602931          Bokheim Publishing      August 3rd 2011   \n",
       "3959958         Bokheim Publishing      August 3rd 2011   \n",
       "\n",
       "                                                     awards  \\\n",
       "book_id                                                       \n",
       "14796360  ['Locus Award Nominee for Best Young Adult Boo...   \n",
       "11534111  ['Locus Award Nominee for Best Young Adult Boo...   \n",
       "15784152  ['Locus Award Nominee for Best Young Adult Boo...   \n",
       "14289293  ['Locus Award Nominee for Best Young Adult Boo...   \n",
       "16051061  ['Locus Award Nominee for Best Young Adult Boo...   \n",
       "...                                                     ...   \n",
       "270435                                                   []   \n",
       "15840361                                                 []   \n",
       "11115191  ['HOLT Medallion by Virginia Romance Writers N...   \n",
       "602931                                                   []   \n",
       "3959958                                                  []   \n",
       "\n",
       "                                                    setting  \\\n",
       "book_id                                                       \n",
       "14796360  ['District 12, Panem', 'Capitol, Panem', 'Pane...   \n",
       "11534111  ['District 12, Panem', 'Capitol, Panem', 'Pane...   \n",
       "15784152  ['District 12, Panem', 'Capitol, Panem', 'Pane...   \n",
       "14289293  ['District 12, Panem', 'Capitol, Panem', 'Pane...   \n",
       "16051061  ['District 12, Panem', 'Capitol, Panem', 'Pane...   \n",
       "...                                                     ...   \n",
       "270435                                                   []   \n",
       "15840361                                                 []   \n",
       "11115191                     ['West Texas (United States)']   \n",
       "602931                                                   []   \n",
       "3959958                                                  []   \n",
       "\n",
       "                                                   coverImg  \\\n",
       "book_id                                                       \n",
       "14796360  https://i.gr-assets.com/images/S/compressed.ph...   \n",
       "11534111  https://i.gr-assets.com/images/S/compressed.ph...   \n",
       "15784152  https://i.gr-assets.com/images/S/compressed.ph...   \n",
       "14289293  https://i.gr-assets.com/images/S/compressed.ph...   \n",
       "16051061  https://i.gr-assets.com/images/S/compressed.ph...   \n",
       "...                                                     ...   \n",
       "270435    https://i.gr-assets.com/images/S/compressed.ph...   \n",
       "15840361  https://i.gr-assets.com/images/S/compressed.ph...   \n",
       "11115191  https://i.gr-assets.com/images/S/compressed.ph...   \n",
       "602931    https://i.gr-assets.com/images/S/compressed.ph...   \n",
       "3959958   https://i.gr-assets.com/images/S/compressed.ph...   \n",
       "\n",
       "                                                  mod_title  \\\n",
       "book_id                                                       \n",
       "14796360                                   the hunger games   \n",
       "11534111                                   the hunger games   \n",
       "15784152                                   the hunger games   \n",
       "14289293                                   the hunger games   \n",
       "16051061                                   the hunger games   \n",
       "...                                                     ...   \n",
       "270435    heal your body the mental causes for physical ...   \n",
       "15840361  heal your body the mental causes for physical ...   \n",
       "11115191                                  attracted to fire   \n",
       "602931                                              anasazi   \n",
       "3959958                                             anasazi   \n",
       "\n",
       "                                                        url  \\\n",
       "book_id                                                       \n",
       "14796360  https://www.goodreads.com/book/show/14796360-t...   \n",
       "11534111  https://www.goodreads.com/book/show/11534111-t...   \n",
       "15784152  https://www.goodreads.com/book/show/15784152-t...   \n",
       "14289293  https://www.goodreads.com/book/show/14289293-t...   \n",
       "16051061  https://www.goodreads.com/book/show/16051061-t...   \n",
       "...                                                     ...   \n",
       "270435    https://www.goodreads.com/book/show/270435.Hea...   \n",
       "15840361  https://www.goodreads.com/book/show/15840361-h...   \n",
       "11115191  https://www.goodreads.com/book/show/11115191-a...   \n",
       "602931    https://www.goodreads.com/book/show/602931.Ana...   \n",
       "3959958   https://www.goodreads.com/book/show/3959958-an...   \n",
       "\n",
       "                                                cover_image  \n",
       "book_id                                                      \n",
       "14796360  https://images.gr-assets.com/books/1355036953m...  \n",
       "11534111  https://images.gr-assets.com/books/1328214586m...  \n",
       "15784152  https://images.gr-assets.com/books/1344000603m...  \n",
       "14289293  https://images.gr-assets.com/books/1337792923m...  \n",
       "16051061  https://images.gr-assets.com/books/1363545717m...  \n",
       "...                                                     ...  \n",
       "270435    https://images.gr-assets.com/books/1404193356m...  \n",
       "15840361  https://images.gr-assets.com/books/1345590708m...  \n",
       "11115191  https://s.gr-assets.com/assets/nophoto/book/11...  \n",
       "602931    https://images.gr-assets.com/books/1287546026m...  \n",
       "3959958   https://s.gr-assets.com/assets/nophoto/book/11...  \n",
       "\n",
       "[130808 rows x 14 columns]"
      ]
     },
     "execution_count": 23,
     "metadata": {},
     "output_type": "execute_result"
    }
   ],
   "source": [
    "books_intersection_full_partial.head(1)\n",
    "books_intersection_full_partial.set_index(\"book_id\")"
   ]
  },
  {
   "cell_type": "code",
   "execution_count": 25,
   "metadata": {},
   "outputs": [
    {
     "data": {
      "text/plain": [
       "130808"
      ]
     },
     "execution_count": 25,
     "metadata": {},
     "output_type": "execute_result"
    }
   ],
   "source": [
    "intersection_book_id = set(books_intersection_full_partial[\"book_id\"])\n",
    "len(intersection_book_id)"
   ]
  },
  {
   "cell_type": "markdown",
   "metadata": {},
   "source": [
    "### Extract book ratings for books fo which we have an actual descritption"
   ]
  },
  {
   "cell_type": "code",
   "execution_count": 14,
   "metadata": {},
   "outputs": [
    {
     "name": "stdout",
     "output_type": "stream",
     "text": [
      "2.2% completed\n",
      "4.4% completed\n",
      "6.6% completed\n",
      "8.7% completed\n",
      "10.9% completed\n",
      "13.1% completed\n",
      "15.3% completed\n",
      "17.5% completed\n",
      "19.7% completed\n",
      "21.8% completed\n",
      "24.0% completed\n",
      "26.2% completed\n",
      "28.4% completed\n",
      "30.6% completed\n",
      "32.8% completed\n",
      "34.9% completed\n",
      "37.1% completed\n",
      "39.3% completed\n",
      "41.5% completed\n",
      "43.7% completed\n",
      "45.9% completed\n",
      "48.0% completed\n",
      "50.2% completed\n",
      "52.4% completed\n",
      "54.6% completed\n",
      "56.8% completed\n",
      "59.0% completed\n",
      "61.1% completed\n",
      "63.3% completed\n",
      "65.5% completed\n",
      "67.7% completed\n",
      "69.9% completed\n",
      "72.1% completed\n",
      "74.2% completed\n",
      "76.4% completed\n",
      "78.6% completed\n",
      "80.8% completed\n",
      "83.0% completed\n",
      "85.2% completed\n",
      "87.3% completed\n",
      "89.5% completed\n",
      "91.7% completed\n",
      "93.9% completed\n",
      "96.1% completed\n",
      "98.3% completed\n"
     ]
    }
   ],
   "source": [
    "known_book_ratings = []\n",
    "i=0\n",
    "with open(\"../goodreads_interactions.csv\", 'r') as file:\n",
    "    next(file) #Skip header\n",
    "    while (line := file.readline().rstrip()):\n",
    "        #Retrieve user, book id and associated rating\n",
    "        user_id, csv_book_id, _, rating, _ = line.split(\",\")\n",
    "        book_id = csv_book_mapping.get(csv_book_id)\n",
    "        if book_id in intersection_book_id:\n",
    "            known_book_ratings.append([user_id, book_id, rating])\n",
    "        i+=1\n",
    "        if(i%5000000==0):\n",
    "            print(f\"{round(i/229000000*100,1)}% completed\")"
   ]
  },
  {
   "cell_type": "code",
   "execution_count": 15,
   "metadata": {},
   "outputs": [
    {
     "data": {
      "text/plain": [
       "56572131"
      ]
     },
     "execution_count": 15,
     "metadata": {},
     "output_type": "execute_result"
    }
   ],
   "source": [
    "len(known_book_ratings) \n",
    "#63825044"
   ]
  },
  {
   "cell_type": "markdown",
   "metadata": {},
   "source": [
    "Put the user book-ratings in a dataframe"
   ]
  },
  {
   "cell_type": "code",
   "execution_count": 16,
   "metadata": {},
   "outputs": [
    {
     "data": {
      "text/html": [
       "<div>\n",
       "<style scoped>\n",
       "    .dataframe tbody tr th:only-of-type {\n",
       "        vertical-align: middle;\n",
       "    }\n",
       "\n",
       "    .dataframe tbody tr th {\n",
       "        vertical-align: top;\n",
       "    }\n",
       "\n",
       "    .dataframe thead th {\n",
       "        text-align: right;\n",
       "    }\n",
       "</style>\n",
       "<table border=\"1\" class=\"dataframe\">\n",
       "  <thead>\n",
       "    <tr style=\"text-align: right;\">\n",
       "      <th></th>\n",
       "      <th>user_id</th>\n",
       "      <th>book_id</th>\n",
       "      <th>rating</th>\n",
       "    </tr>\n",
       "  </thead>\n",
       "  <tbody>\n",
       "    <tr>\n",
       "      <th>0</th>\n",
       "      <td>0</td>\n",
       "      <td>21</td>\n",
       "      <td>5</td>\n",
       "    </tr>\n",
       "    <tr>\n",
       "      <th>1</th>\n",
       "      <td>0</td>\n",
       "      <td>30</td>\n",
       "      <td>5</td>\n",
       "    </tr>\n",
       "    <tr>\n",
       "      <th>2</th>\n",
       "      <td>0</td>\n",
       "      <td>1022863</td>\n",
       "      <td>5</td>\n",
       "    </tr>\n",
       "    <tr>\n",
       "      <th>3</th>\n",
       "      <td>0</td>\n",
       "      <td>830</td>\n",
       "      <td>4</td>\n",
       "    </tr>\n",
       "    <tr>\n",
       "      <th>4</th>\n",
       "      <td>0</td>\n",
       "      <td>835</td>\n",
       "      <td>4</td>\n",
       "    </tr>\n",
       "  </tbody>\n",
       "</table>\n",
       "</div>"
      ],
      "text/plain": [
       "  user_id  book_id  rating\n",
       "0       0       21       5\n",
       "1       0       30       5\n",
       "2       0  1022863       5\n",
       "3       0      830       4\n",
       "4       0      835       4"
      ]
     },
     "execution_count": 16,
     "metadata": {},
     "output_type": "execute_result"
    }
   ],
   "source": [
    "users_ratings = pd.DataFrame(known_book_ratings, columns=[\"user_id\", \"book_id\", \"rating\"])\n",
    "users_ratings[\"rating\"] = pd.to_numeric(users_ratings[\"rating\"])\n",
    "users_ratings.head()"
   ]
  },
  {
   "cell_type": "markdown",
   "metadata": {},
   "source": [
    "### Export the dataframes to csv"
   ]
  },
  {
   "cell_type": "markdown",
   "metadata": {},
   "source": [
    "Export the user ratings of books we know the description of"
   ]
  },
  {
   "cell_type": "code",
   "execution_count": 18,
   "metadata": {},
   "outputs": [],
   "source": [
    "users_ratings.to_csv(\"./data/user_book_ratings.csv\")"
   ]
  },
  {
   "cell_type": "markdown",
   "metadata": {},
   "source": [
    "Export the list of rated books with there full metadata"
   ]
  },
  {
   "cell_type": "code",
   "execution_count": 26,
   "metadata": {},
   "outputs": [],
   "source": [
    "books_intersection_full_partial.to_csv(\"./data/books_metadata.csv\")"
   ]
  }
 ],
 "metadata": {
  "kernelspec": {
   "display_name": "Python 3.9.13 ('base')",
   "language": "python",
   "name": "python3"
  },
  "language_info": {
   "codemirror_mode": {
    "name": "ipython",
    "version": 3
   },
   "file_extension": ".py",
   "mimetype": "text/x-python",
   "name": "python",
   "nbconvert_exporter": "python",
   "pygments_lexer": "ipython3",
   "version": "3.9.13"
  },
  "orig_nbformat": 4,
  "vscode": {
   "interpreter": {
    "hash": "7a7bc949ac09e1311def83ae0b9d9fa997b438448c6e4b9a59dc0c484a51e208"
   }
  }
 },
 "nbformat": 4,
 "nbformat_minor": 2
}
