{
 "cells": [
  {
   "cell_type": "markdown",
   "metadata": {},
   "source": [
    "# Data preparation"
   ]
  },
  {
   "cell_type": "markdown",
   "metadata": {},
   "source": [
    "The goal of this notebook is to prepare the data for the project. In particular, we map the book's metadata (especially the summary) that comes from one dataset to the list of user-book ratings."
   ]
  },
  {
   "cell_type": "code",
   "execution_count": 1,
   "metadata": {},
   "outputs": [],
   "source": [
    "import pandas as pd"
   ]
  },
  {
   "cell_type": "markdown",
   "metadata": {},
   "source": [
    "### Extract books complete metadata, including description (books_1.Best_Books_Ever.csv)"
   ]
  },
  {
   "cell_type": "code",
   "execution_count": 2,
   "metadata": {},
   "outputs": [
    {
     "data": {
      "text/plain": [
       "52478"
      ]
     },
     "execution_count": 2,
     "metadata": {},
     "output_type": "execute_result"
    }
   ],
   "source": [
    "books_full_metadata = pd.read_csv('../books_1.Best_Books_Ever.csv')\n",
    "books_full_metadata.head(1)\n",
    "len(books_full_metadata)"
   ]
  },
  {
   "cell_type": "markdown",
   "metadata": {},
   "source": [
    "Keep only boks that are in english"
   ]
  },
  {
   "cell_type": "code",
   "execution_count": 3,
   "metadata": {},
   "outputs": [
    {
     "data": {
      "text/plain": [
       "42661"
      ]
     },
     "execution_count": 3,
     "metadata": {},
     "output_type": "execute_result"
    }
   ],
   "source": [
    "books_full_metadata = books_full_metadata[books_full_metadata[\"language\"] == \"English\"]\n",
    "len(books_full_metadata)"
   ]
  },
  {
   "cell_type": "markdown",
   "metadata": {},
   "source": [
    "Get only the features we are interested in"
   ]
  },
  {
   "cell_type": "code",
   "execution_count": 4,
   "metadata": {},
   "outputs": [],
   "source": [
    "books_full_metadata = books_full_metadata[[\"title\",\"series\",\"author\",\"description\",\"genres\",\"pages\", \"publisher\",\"firstPublishDate\",\"awards\",\"setting\",\"coverImg\"]]"
   ]
  },
  {
   "cell_type": "markdown",
   "metadata": {},
   "source": [
    "Parse titles"
   ]
  },
  {
   "cell_type": "code",
   "execution_count": 5,
   "metadata": {},
   "outputs": [
    {
     "data": {
      "text/html": [
       "<div>\n",
       "<style scoped>\n",
       "    .dataframe tbody tr th:only-of-type {\n",
       "        vertical-align: middle;\n",
       "    }\n",
       "\n",
       "    .dataframe tbody tr th {\n",
       "        vertical-align: top;\n",
       "    }\n",
       "\n",
       "    .dataframe thead th {\n",
       "        text-align: right;\n",
       "    }\n",
       "</style>\n",
       "<table border=\"1\" class=\"dataframe\">\n",
       "  <thead>\n",
       "    <tr style=\"text-align: right;\">\n",
       "      <th></th>\n",
       "      <th>title</th>\n",
       "      <th>series</th>\n",
       "      <th>author</th>\n",
       "      <th>description</th>\n",
       "      <th>genres</th>\n",
       "      <th>pages</th>\n",
       "      <th>publisher</th>\n",
       "      <th>firstPublishDate</th>\n",
       "      <th>awards</th>\n",
       "      <th>setting</th>\n",
       "      <th>coverImg</th>\n",
       "      <th>mod_title</th>\n",
       "    </tr>\n",
       "  </thead>\n",
       "  <tbody>\n",
       "    <tr>\n",
       "      <th>100</th>\n",
       "      <td>Moby-Dick or, the Whale</td>\n",
       "      <td>NaN</td>\n",
       "      <td>Herman Melville, Andrew Delbanco (Introduction...</td>\n",
       "      <td>\"It is the horrible texture of a fabric that s...</td>\n",
       "      <td>['Classics', 'Fiction', 'Literature', 'Adventu...</td>\n",
       "      <td>654</td>\n",
       "      <td>Penguin Classics</td>\n",
       "      <td>10/18/51</td>\n",
       "      <td>['Audie Award for Solo Narration - Male (2006)...</td>\n",
       "      <td>['Nantucket Island, Massachusetts (United Stat...</td>\n",
       "      <td>https://i.gr-assets.com/images/S/compressed.ph...</td>\n",
       "      <td>mobydick or the whale</td>\n",
       "    </tr>\n",
       "  </tbody>\n",
       "</table>\n",
       "</div>"
      ],
      "text/plain": [
       "                       title series  \\\n",
       "100  Moby-Dick or, the Whale    NaN   \n",
       "\n",
       "                                                author  \\\n",
       "100  Herman Melville, Andrew Delbanco (Introduction...   \n",
       "\n",
       "                                           description  \\\n",
       "100  \"It is the horrible texture of a fabric that s...   \n",
       "\n",
       "                                                genres pages  \\\n",
       "100  ['Classics', 'Fiction', 'Literature', 'Adventu...   654   \n",
       "\n",
       "            publisher firstPublishDate  \\\n",
       "100  Penguin Classics         10/18/51   \n",
       "\n",
       "                                                awards  \\\n",
       "100  ['Audie Award for Solo Narration - Male (2006)...   \n",
       "\n",
       "                                               setting  \\\n",
       "100  ['Nantucket Island, Massachusetts (United Stat...   \n",
       "\n",
       "                                              coverImg              mod_title  \n",
       "100  https://i.gr-assets.com/images/S/compressed.ph...  mobydick or the whale  "
      ]
     },
     "execution_count": 5,
     "metadata": {},
     "output_type": "execute_result"
    }
   ],
   "source": [
    "books_full_metadata['mod_title'] = books_full_metadata['title'].str.replace(\"\\s+\", \" \", regex=True) #Remove multiple spaces in a row\n",
    "books_full_metadata['mod_title'] = books_full_metadata['mod_title'].str.replace(\"[^\\w\\s]\", \"\", regex=True).str.lower() #Remove punctuation and change to lower case\n",
    "books_full_metadata[books_full_metadata[\"mod_title\"] == \"mobydick or the whale\"]"
   ]
  },
  {
   "cell_type": "markdown",
   "metadata": {},
   "source": [
    "Remove books that have the same title "
   ]
  },
  {
   "cell_type": "code",
   "execution_count": 6,
   "metadata": {},
   "outputs": [],
   "source": [
    "duplicate_book = books_full_metadata[books_full_metadata[\"mod_title\"].isin(books_full_metadata[\"mod_title\"][books_full_metadata[\"mod_title\"].duplicated()])].sort_values(\"mod_title\").index\n",
    "books_full_metadata = books_full_metadata.drop(duplicate_book)"
   ]
  },
  {
   "cell_type": "code",
   "execution_count": 7,
   "metadata": {},
   "outputs": [
    {
     "data": {
      "text/plain": [
       "38829"
      ]
     },
     "execution_count": 7,
     "metadata": {},
     "output_type": "execute_result"
    }
   ],
   "source": [
    "len(books_full_metadata)"
   ]
  },
  {
   "cell_type": "markdown",
   "metadata": {},
   "source": [
    "### Extract goodreads books incomplete metadata (books_titles.json)"
   ]
  },
  {
   "cell_type": "code",
   "execution_count": 76,
   "metadata": {},
   "outputs": [
    {
     "data": {
      "text/html": [
       "<div>\n",
       "<style scoped>\n",
       "    .dataframe tbody tr th:only-of-type {\n",
       "        vertical-align: middle;\n",
       "    }\n",
       "\n",
       "    .dataframe tbody tr th {\n",
       "        vertical-align: top;\n",
       "    }\n",
       "\n",
       "    .dataframe thead th {\n",
       "        text-align: right;\n",
       "    }\n",
       "</style>\n",
       "<table border=\"1\" class=\"dataframe\">\n",
       "  <thead>\n",
       "    <tr style=\"text-align: right;\">\n",
       "      <th></th>\n",
       "      <th>mod_title</th>\n",
       "    </tr>\n",
       "    <tr>\n",
       "      <th>book_id</th>\n",
       "      <th></th>\n",
       "    </tr>\n",
       "  </thead>\n",
       "  <tbody>\n",
       "    <tr>\n",
       "      <th>1333909</th>\n",
       "      <td>good harbor</td>\n",
       "    </tr>\n",
       "    <tr>\n",
       "      <th>7327624</th>\n",
       "      <td>the unschooled wizard sun wolf and starhawk 12</td>\n",
       "    </tr>\n",
       "    <tr>\n",
       "      <th>6066819</th>\n",
       "      <td>best friends forever</td>\n",
       "    </tr>\n",
       "    <tr>\n",
       "      <th>287140</th>\n",
       "      <td>runic astrology starcraft and timekeeping in t...</td>\n",
       "    </tr>\n",
       "    <tr>\n",
       "      <th>287141</th>\n",
       "      <td>the aeneid for boys and girls</td>\n",
       "    </tr>\n",
       "  </tbody>\n",
       "</table>\n",
       "</div>"
      ],
      "text/plain": [
       "                                                 mod_title\n",
       "book_id                                                   \n",
       "1333909                                        good harbor\n",
       "7327624     the unschooled wizard sun wolf and starhawk 12\n",
       "6066819                               best friends forever\n",
       "287140   runic astrology starcraft and timekeeping in t...\n",
       "287141                       the aeneid for boys and girls"
      ]
     },
     "execution_count": 76,
     "metadata": {},
     "output_type": "execute_result"
    }
   ],
   "source": [
    "books_partial_metadata = pd.read_json(\"../books_titles.json\")\n",
    "books_partial_metadata[\"book_id\"] = books_partial_metadata[\"book_id\"].astype(str)\n",
    "books_partial_metadata = books_partial_metadata.set_index(\"book_id\")\n",
    "books_partial_metadata = books_partial_metadata.drop(columns=[\"title\", \"ratings\", \"url\", \"cover_image\"]) #drop unecessary colums\n",
    "books_partial_metadata.head()"
   ]
  },
  {
   "cell_type": "markdown",
   "metadata": {},
   "source": [
    "Remove empty titles"
   ]
  },
  {
   "cell_type": "code",
   "execution_count": 77,
   "metadata": {},
   "outputs": [
    {
     "data": {
      "text/plain": [
       "1716607"
      ]
     },
     "execution_count": 77,
     "metadata": {},
     "output_type": "execute_result"
    }
   ],
   "source": [
    "books_partial_metadata_removed_ids = books_partial_metadata[books_partial_metadata[\"mod_title\"] == \" \"].index #rget the ids of books with empty titles\n",
    "books_partial_metadata = books_partial_metadata[books_partial_metadata[\"mod_title\"] != \" \"] #remove empty titles\n",
    "len(books_partial_metadata)"
   ]
  },
  {
   "cell_type": "markdown",
   "metadata": {},
   "source": [
    "Remove book duplicates and store the new book ids for the duplicates"
   ]
  },
  {
   "cell_type": "code",
   "execution_count": 78,
   "metadata": {},
   "outputs": [
    {
     "data": {
      "text/plain": [
       "701831"
      ]
     },
     "execution_count": 78,
     "metadata": {},
     "output_type": "execute_result"
    }
   ],
   "source": [
    "#Get the list of books with a duplicate title\n",
    "duplicate_books = books_partial_metadata[books_partial_metadata.duplicated(subset=['mod_title'],keep=False)]\n",
    "duplicate_books_title_set = set(duplicate_books[\"mod_title\"])\n",
    "len(duplicate_books)"
   ]
  },
  {
   "cell_type": "code",
   "execution_count": 79,
   "metadata": {},
   "outputs": [],
   "source": [
    "duplicate_book_new_id = {} #When a book is a duplicate, only keep the id of the fisrt one encountered\n",
    "new_aggregates_id = {} #Stores the new id associated to the old id of duplicate books\n",
    "for book_id, row in duplicate_books.iterrows():\n",
    "  book_title = row[\"mod_title\"]\n",
    "  # If the book is a duplicate, then drop the book\n",
    "  if book_title in duplicate_book_new_id:\n",
    "    new_aggregates_id[book_id] = duplicate_book_new_id[book_title]\n",
    "    # books_partial_metadata = books_partial_metadata[books_partial_metadata[\"book_id\"] != book_id]\n",
    "  else:\n",
    "    duplicate_book_new_id[book_title] = book_id \n",
    "    new_aggregates_id[book_id] = book_id"
   ]
  },
  {
   "cell_type": "code",
   "execution_count": 80,
   "metadata": {},
   "outputs": [
    {
     "data": {
      "text/plain": [
       "212896"
      ]
     },
     "execution_count": 80,
     "metadata": {},
     "output_type": "execute_result"
    }
   ],
   "source": [
    "#One unique id is assigned for each group of books with same title\n",
    "duplicate_book_new_id_df = pd.DataFrame(duplicate_book_new_id.items(), columns=[\"mod_title\", \"book_id\"])\n",
    "duplicate_book_new_id_df = duplicate_book_new_id_df.set_index(\"book_id\")\n",
    "len(duplicate_book_new_id_df)"
   ]
  },
  {
   "cell_type": "code",
   "execution_count": 81,
   "metadata": {},
   "outputs": [
    {
     "data": {
      "text/plain": [
       "1014776"
      ]
     },
     "execution_count": 81,
     "metadata": {},
     "output_type": "execute_result"
    }
   ],
   "source": [
    "#Remove books that have a duplicate\n",
    "books_partial_metadata = books_partial_metadata[~books_partial_metadata['mod_title'].isin(duplicate_books_title_set)]\n",
    "len(books_partial_metadata)"
   ]
  },
  {
   "cell_type": "code",
   "execution_count": 82,
   "metadata": {},
   "outputs": [],
   "source": [
    "#Add back the aggregated group of books that had same titles\n",
    "books_partial_metadata = pd.concat([books_partial_metadata, duplicate_book_new_id_df])"
   ]
  },
  {
   "cell_type": "code",
   "execution_count": 83,
   "metadata": {},
   "outputs": [
    {
     "data": {
      "text/plain": [
       "1227672"
      ]
     },
     "execution_count": 83,
     "metadata": {},
     "output_type": "execute_result"
    }
   ],
   "source": [
    "books_partial_metadata[\"book_id\"] = books_partial_metadata.index\n",
    "len(books_partial_metadata)"
   ]
  },
  {
   "cell_type": "markdown",
   "metadata": {},
   "source": [
    "### Import mapping between book ids in the csv and books_titles.json file (book_id_map.csv)"
   ]
  },
  {
   "cell_type": "code",
   "execution_count": 84,
   "metadata": {},
   "outputs": [],
   "source": [
    "csv_book_mapping = {}\n",
    "\n",
    "with open(\"../book_id_map.csv\", \"r\") as file: #Reading through large file\n",
    "    next(file) #Skip header\n",
    "    while (line := file.readline().rstrip()):\n",
    "        csv_id, book_id = line.strip().split(\",\")\n",
    "        csv_book_mapping[csv_id] = book_id"
   ]
  },
  {
   "cell_type": "markdown",
   "metadata": {},
   "source": [
    "### Find the intersection between the two book descriptions dataframes"
   ]
  },
  {
   "cell_type": "code",
   "execution_count": 85,
   "metadata": {},
   "outputs": [],
   "source": [
    "books_intersection_full_partial = pd.merge(books_full_metadata, books_partial_metadata, how ='inner', on =['mod_title'])"
   ]
  },
  {
   "cell_type": "code",
   "execution_count": 86,
   "metadata": {},
   "outputs": [
    {
     "data": {
      "text/html": [
       "<div>\n",
       "<style scoped>\n",
       "    .dataframe tbody tr th:only-of-type {\n",
       "        vertical-align: middle;\n",
       "    }\n",
       "\n",
       "    .dataframe tbody tr th {\n",
       "        vertical-align: top;\n",
       "    }\n",
       "\n",
       "    .dataframe thead th {\n",
       "        text-align: right;\n",
       "    }\n",
       "</style>\n",
       "<table border=\"1\" class=\"dataframe\">\n",
       "  <thead>\n",
       "    <tr style=\"text-align: right;\">\n",
       "      <th></th>\n",
       "      <th>title</th>\n",
       "      <th>series</th>\n",
       "      <th>author</th>\n",
       "      <th>description</th>\n",
       "      <th>genres</th>\n",
       "      <th>pages</th>\n",
       "      <th>publisher</th>\n",
       "      <th>firstPublishDate</th>\n",
       "      <th>awards</th>\n",
       "      <th>setting</th>\n",
       "      <th>coverImg</th>\n",
       "      <th>mod_title</th>\n",
       "      <th>book_id</th>\n",
       "    </tr>\n",
       "  </thead>\n",
       "  <tbody>\n",
       "    <tr>\n",
       "      <th>0</th>\n",
       "      <td>The Hunger Games</td>\n",
       "      <td>The Hunger Games #1</td>\n",
       "      <td>Suzanne Collins</td>\n",
       "      <td>WINNING MEANS FAME AND FORTUNE.LOSING MEANS CE...</td>\n",
       "      <td>['Young Adult', 'Fiction', 'Dystopia', 'Fantas...</td>\n",
       "      <td>374</td>\n",
       "      <td>Scholastic Press</td>\n",
       "      <td>NaN</td>\n",
       "      <td>['Locus Award Nominee for Best Young Adult Boo...</td>\n",
       "      <td>['District 12, Panem', 'Capitol, Panem', 'Pane...</td>\n",
       "      <td>https://i.gr-assets.com/images/S/compressed.ph...</td>\n",
       "      <td>the hunger games</td>\n",
       "      <td>14796360</td>\n",
       "    </tr>\n",
       "  </tbody>\n",
       "</table>\n",
       "</div>"
      ],
      "text/plain": [
       "              title               series           author  \\\n",
       "0  The Hunger Games  The Hunger Games #1  Suzanne Collins   \n",
       "\n",
       "                                         description  \\\n",
       "0  WINNING MEANS FAME AND FORTUNE.LOSING MEANS CE...   \n",
       "\n",
       "                                              genres pages         publisher  \\\n",
       "0  ['Young Adult', 'Fiction', 'Dystopia', 'Fantas...   374  Scholastic Press   \n",
       "\n",
       "  firstPublishDate                                             awards  \\\n",
       "0              NaN  ['Locus Award Nominee for Best Young Adult Boo...   \n",
       "\n",
       "                                             setting  \\\n",
       "0  ['District 12, Panem', 'Capitol, Panem', 'Pane...   \n",
       "\n",
       "                                            coverImg         mod_title  \\\n",
       "0  https://i.gr-assets.com/images/S/compressed.ph...  the hunger games   \n",
       "\n",
       "    book_id  \n",
       "0  14796360  "
      ]
     },
     "execution_count": 86,
     "metadata": {},
     "output_type": "execute_result"
    }
   ],
   "source": [
    "books_intersection_full_partial.head(1)"
   ]
  },
  {
   "cell_type": "code",
   "execution_count": 87,
   "metadata": {},
   "outputs": [
    {
     "data": {
      "text/plain": [
       "26764"
      ]
     },
     "execution_count": 87,
     "metadata": {},
     "output_type": "execute_result"
    }
   ],
   "source": [
    "#Get the list of all book ids for wich we have a description \n",
    "intersection_book_id = set(books_intersection_full_partial[\"book_id\"])\n",
    "len(intersection_book_id)"
   ]
  },
  {
   "cell_type": "code",
   "execution_count": 133,
   "metadata": {},
   "outputs": [
    {
     "data": {
      "text/plain": [
       "122243"
      ]
     },
     "execution_count": 133,
     "metadata": {},
     "output_type": "execute_result"
    }
   ],
   "source": [
    "# Get the list of new book that were duplicates\n",
    "# Keep only the id of the book we kept\n",
    "new_aggregates_id = dict((k,v) for k,v in new_aggregates_id.items() if v in intersection_book_id)\n",
    "len(new_aggregates_id)"
   ]
  },
  {
   "cell_type": "markdown",
   "metadata": {},
   "source": [
    "### Extract book ratings for books fo which we have an actual descritption"
   ]
  },
  {
   "cell_type": "code",
   "execution_count": 134,
   "metadata": {},
   "outputs": [
    {
     "name": "stdout",
     "output_type": "stream",
     "text": [
      "2.2% completed\n",
      "4.4% completed\n",
      "6.6% completed\n",
      "8.7% completed\n",
      "10.9% completed\n",
      "13.1% completed\n",
      "15.3% completed\n",
      "17.5% completed\n",
      "19.7% completed\n",
      "21.8% completed\n",
      "24.0% completed\n",
      "26.2% completed\n",
      "28.4% completed\n",
      "30.6% completed\n",
      "32.8% completed\n",
      "34.9% completed\n",
      "37.1% completed\n",
      "39.3% completed\n",
      "41.5% completed\n",
      "43.7% completed\n",
      "45.9% completed\n",
      "48.0% completed\n",
      "50.2% completed\n",
      "52.4% completed\n",
      "54.6% completed\n",
      "56.8% completed\n",
      "59.0% completed\n",
      "61.1% completed\n",
      "63.3% completed\n",
      "65.5% completed\n",
      "67.7% completed\n",
      "69.9% completed\n",
      "72.1% completed\n",
      "74.2% completed\n",
      "76.4% completed\n",
      "78.6% completed\n",
      "80.8% completed\n",
      "83.0% completed\n",
      "85.2% completed\n",
      "87.3% completed\n",
      "89.5% completed\n",
      "91.7% completed\n",
      "93.9% completed\n",
      "96.1% completed\n",
      "98.3% completed\n"
     ]
    }
   ],
   "source": [
    "known_book_ratings = []\n",
    "i=0\n",
    "with open(\"../goodreads_interactions.csv\", 'r') as file:\n",
    "    next(file) #Skip header\n",
    "    while (line := file.readline().rstrip()):\n",
    "        #Retrieve user, book id and associated rating\n",
    "        user_id, csv_book_id, _, rating, _ = line.split(\",\")\n",
    "        book_id = csv_book_mapping.get(csv_book_id)\n",
    "        if book_id in intersection_book_id: #If we have the book description \n",
    "            known_book_ratings.append([user_id, book_id, rating])\n",
    "        elif book_id in new_aggregates_id: #If the book was a duplicate and we also have a description\n",
    "            known_book_ratings.append([user_id, new_aggregates_id[book_id], rating])\n",
    "        i+=1\n",
    "        if(i%5000000==0):\n",
    "            print(f\"{round(i/229000000*100,1)}% completed\")"
   ]
  },
  {
   "cell_type": "code",
   "execution_count": 135,
   "metadata": {},
   "outputs": [
    {
     "data": {
      "text/plain": [
       "56572131"
      ]
     },
     "execution_count": 135,
     "metadata": {},
     "output_type": "execute_result"
    }
   ],
   "source": [
    "len(known_book_ratings)\n",
    "#63825044\n",
    "#56572131"
   ]
  },
  {
   "cell_type": "markdown",
   "metadata": {},
   "source": [
    "Put the user book-ratings in a dataframe"
   ]
  },
  {
   "cell_type": "code",
   "execution_count": 136,
   "metadata": {},
   "outputs": [
    {
     "data": {
      "text/html": [
       "<div>\n",
       "<style scoped>\n",
       "    .dataframe tbody tr th:only-of-type {\n",
       "        vertical-align: middle;\n",
       "    }\n",
       "\n",
       "    .dataframe tbody tr th {\n",
       "        vertical-align: top;\n",
       "    }\n",
       "\n",
       "    .dataframe thead th {\n",
       "        text-align: right;\n",
       "    }\n",
       "</style>\n",
       "<table border=\"1\" class=\"dataframe\">\n",
       "  <thead>\n",
       "    <tr style=\"text-align: right;\">\n",
       "      <th></th>\n",
       "      <th>user_id</th>\n",
       "      <th>book_id</th>\n",
       "      <th>rating</th>\n",
       "    </tr>\n",
       "  </thead>\n",
       "  <tbody>\n",
       "    <tr>\n",
       "      <th>0</th>\n",
       "      <td>0</td>\n",
       "      <td>5602347</td>\n",
       "      <td>5</td>\n",
       "    </tr>\n",
       "    <tr>\n",
       "      <th>1</th>\n",
       "      <td>0</td>\n",
       "      <td>30</td>\n",
       "      <td>5</td>\n",
       "    </tr>\n",
       "    <tr>\n",
       "      <th>2</th>\n",
       "      <td>0</td>\n",
       "      <td>12528798</td>\n",
       "      <td>5</td>\n",
       "    </tr>\n",
       "    <tr>\n",
       "      <th>3</th>\n",
       "      <td>0</td>\n",
       "      <td>25026517</td>\n",
       "      <td>4</td>\n",
       "    </tr>\n",
       "    <tr>\n",
       "      <th>4</th>\n",
       "      <td>0</td>\n",
       "      <td>835</td>\n",
       "      <td>4</td>\n",
       "    </tr>\n",
       "  </tbody>\n",
       "</table>\n",
       "</div>"
      ],
      "text/plain": [
       "  user_id   book_id  rating\n",
       "0       0   5602347       5\n",
       "1       0        30       5\n",
       "2       0  12528798       5\n",
       "3       0  25026517       4\n",
       "4       0       835       4"
      ]
     },
     "execution_count": 136,
     "metadata": {},
     "output_type": "execute_result"
    }
   ],
   "source": [
    "users_ratings = pd.DataFrame(known_book_ratings, columns=[\"user_id\", \"book_id\", \"rating\"])\n",
    "users_ratings[\"rating\"] = pd.to_numeric(users_ratings[\"rating\"])\n",
    "users_ratings.head()"
   ]
  },
  {
   "cell_type": "markdown",
   "metadata": {},
   "source": [
    "### Export the dataframes to csv"
   ]
  },
  {
   "cell_type": "markdown",
   "metadata": {},
   "source": [
    "Export the user ratings of books we know the description of"
   ]
  },
  {
   "cell_type": "code",
   "execution_count": 138,
   "metadata": {},
   "outputs": [],
   "source": [
    "users_ratings.to_csv(\"./data/user_book_ratings.csv\")"
   ]
  },
  {
   "cell_type": "markdown",
   "metadata": {},
   "source": [
    "Export the list of rated books with there full metadata"
   ]
  },
  {
   "cell_type": "code",
   "execution_count": 154,
   "metadata": {},
   "outputs": [
    {
     "data": {
      "text/html": [
       "<div>\n",
       "<style scoped>\n",
       "    .dataframe tbody tr th:only-of-type {\n",
       "        vertical-align: middle;\n",
       "    }\n",
       "\n",
       "    .dataframe tbody tr th {\n",
       "        vertical-align: top;\n",
       "    }\n",
       "\n",
       "    .dataframe thead th {\n",
       "        text-align: right;\n",
       "    }\n",
       "</style>\n",
       "<table border=\"1\" class=\"dataframe\">\n",
       "  <thead>\n",
       "    <tr style=\"text-align: right;\">\n",
       "      <th></th>\n",
       "      <th>title</th>\n",
       "      <th>series</th>\n",
       "      <th>author</th>\n",
       "      <th>description</th>\n",
       "      <th>genres</th>\n",
       "      <th>pages</th>\n",
       "      <th>publisher</th>\n",
       "      <th>firstPublishDate</th>\n",
       "      <th>awards</th>\n",
       "      <th>setting</th>\n",
       "      <th>coverImg</th>\n",
       "    </tr>\n",
       "    <tr>\n",
       "      <th>book_id</th>\n",
       "      <th></th>\n",
       "      <th></th>\n",
       "      <th></th>\n",
       "      <th></th>\n",
       "      <th></th>\n",
       "      <th></th>\n",
       "      <th></th>\n",
       "      <th></th>\n",
       "      <th></th>\n",
       "      <th></th>\n",
       "      <th></th>\n",
       "    </tr>\n",
       "  </thead>\n",
       "  <tbody>\n",
       "    <tr>\n",
       "      <th>14796360</th>\n",
       "      <td>The Hunger Games</td>\n",
       "      <td>The Hunger Games #1</td>\n",
       "      <td>Suzanne Collins</td>\n",
       "      <td>WINNING MEANS FAME AND FORTUNE.LOSING MEANS CE...</td>\n",
       "      <td>['Young Adult', 'Fiction', 'Dystopia', 'Fantas...</td>\n",
       "      <td>374</td>\n",
       "      <td>Scholastic Press</td>\n",
       "      <td>NaN</td>\n",
       "      <td>['Locus Award Nominee for Best Young Adult Boo...</td>\n",
       "      <td>['District 12, Panem', 'Capitol, Panem', 'Pane...</td>\n",
       "      <td>https://i.gr-assets.com/images/S/compressed.ph...</td>\n",
       "    </tr>\n",
       "    <tr>\n",
       "      <th>7743507</th>\n",
       "      <td>Harry Potter and the Order of the Phoenix</td>\n",
       "      <td>Harry Potter #5</td>\n",
       "      <td>J.K. Rowling, Mary GrandPré (Illustrator)</td>\n",
       "      <td>There is a door at the end of a silent corrido...</td>\n",
       "      <td>['Fantasy', 'Young Adult', 'Fiction', 'Magic',...</td>\n",
       "      <td>870</td>\n",
       "      <td>Scholastic Inc.</td>\n",
       "      <td>06/21/03</td>\n",
       "      <td>['Bram Stoker Award for Works for Young Reader...</td>\n",
       "      <td>['Hogwarts School of Witchcraft and Wizardry (...</td>\n",
       "      <td>https://i.gr-assets.com/images/S/compressed.ph...</td>\n",
       "    </tr>\n",
       "    <tr>\n",
       "      <th>23390821</th>\n",
       "      <td>To Kill a Mockingbird</td>\n",
       "      <td>To Kill a Mockingbird</td>\n",
       "      <td>Harper Lee</td>\n",
       "      <td>The unforgettable novel of a childhood in a sl...</td>\n",
       "      <td>['Classics', 'Fiction', 'Historical Fiction', ...</td>\n",
       "      <td>324</td>\n",
       "      <td>Harper Perennial Modern Classics</td>\n",
       "      <td>07/11/60</td>\n",
       "      <td>['Pulitzer Prize for Fiction (1961)', 'Audie A...</td>\n",
       "      <td>['Maycomb, Alabama (United States)']</td>\n",
       "      <td>https://i.gr-assets.com/images/S/compressed.ph...</td>\n",
       "    </tr>\n",
       "  </tbody>\n",
       "</table>\n",
       "</div>"
      ],
      "text/plain": [
       "                                              title                 series  \\\n",
       "book_id                                                                      \n",
       "14796360                           The Hunger Games    The Hunger Games #1   \n",
       "7743507   Harry Potter and the Order of the Phoenix        Harry Potter #5   \n",
       "23390821                      To Kill a Mockingbird  To Kill a Mockingbird   \n",
       "\n",
       "                                             author  \\\n",
       "book_id                                               \n",
       "14796360                            Suzanne Collins   \n",
       "7743507   J.K. Rowling, Mary GrandPré (Illustrator)   \n",
       "23390821                                 Harper Lee   \n",
       "\n",
       "                                                description  \\\n",
       "book_id                                                       \n",
       "14796360  WINNING MEANS FAME AND FORTUNE.LOSING MEANS CE...   \n",
       "7743507   There is a door at the end of a silent corrido...   \n",
       "23390821  The unforgettable novel of a childhood in a sl...   \n",
       "\n",
       "                                                     genres pages  \\\n",
       "book_id                                                             \n",
       "14796360  ['Young Adult', 'Fiction', 'Dystopia', 'Fantas...   374   \n",
       "7743507   ['Fantasy', 'Young Adult', 'Fiction', 'Magic',...   870   \n",
       "23390821  ['Classics', 'Fiction', 'Historical Fiction', ...   324   \n",
       "\n",
       "                                 publisher firstPublishDate  \\\n",
       "book_id                                                       \n",
       "14796360                  Scholastic Press              NaN   \n",
       "7743507                    Scholastic Inc.         06/21/03   \n",
       "23390821  Harper Perennial Modern Classics         07/11/60   \n",
       "\n",
       "                                                     awards  \\\n",
       "book_id                                                       \n",
       "14796360  ['Locus Award Nominee for Best Young Adult Boo...   \n",
       "7743507   ['Bram Stoker Award for Works for Young Reader...   \n",
       "23390821  ['Pulitzer Prize for Fiction (1961)', 'Audie A...   \n",
       "\n",
       "                                                    setting  \\\n",
       "book_id                                                       \n",
       "14796360  ['District 12, Panem', 'Capitol, Panem', 'Pane...   \n",
       "7743507   ['Hogwarts School of Witchcraft and Wizardry (...   \n",
       "23390821               ['Maycomb, Alabama (United States)']   \n",
       "\n",
       "                                                   coverImg  \n",
       "book_id                                                      \n",
       "14796360  https://i.gr-assets.com/images/S/compressed.ph...  \n",
       "7743507   https://i.gr-assets.com/images/S/compressed.ph...  \n",
       "23390821  https://i.gr-assets.com/images/S/compressed.ph...  "
      ]
     },
     "execution_count": 154,
     "metadata": {},
     "output_type": "execute_result"
    }
   ],
   "source": [
    "#Set the book id as id and drop mod_title\n",
    "books_intersection_full_partial = books_intersection_full_partial.set_index(\"book_id\") \n",
    "books_intersection_full_partial = books_intersection_full_partial.drop(columns=[\"mod_title\"])\n",
    "books_intersection_full_partial.head(3)"
   ]
  },
  {
   "cell_type": "code",
   "execution_count": 155,
   "metadata": {},
   "outputs": [],
   "source": [
    "books_intersection_full_partial.to_csv(\"./data/books_metadata.csv\")"
   ]
  }
 ],
 "metadata": {
  "kernelspec": {
   "display_name": "Python 3.9.13 ('base')",
   "language": "python",
   "name": "python3"
  },
  "language_info": {
   "codemirror_mode": {
    "name": "ipython",
    "version": 3
   },
   "file_extension": ".py",
   "mimetype": "text/x-python",
   "name": "python",
   "nbconvert_exporter": "python",
   "pygments_lexer": "ipython3",
   "version": "3.9.13"
  },
  "orig_nbformat": 4,
  "vscode": {
   "interpreter": {
    "hash": "7a7bc949ac09e1311def83ae0b9d9fa997b438448c6e4b9a59dc0c484a51e208"
   }
  }
 },
 "nbformat": 4,
 "nbformat_minor": 2
}
