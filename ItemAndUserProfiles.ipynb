{
 "cells": [
  {
   "cell_type": "markdown",
   "metadata": {},
   "source": [
    "## Item & User Profiles\n",
    "\n",
    "This script does the following:<br/>\n",
    "1. Create item profiles and write them to file *\"item_profiles.txt\"*\n",
    "2. Create user profiles for all users and write them to file *\"user_profiles.txt\"*"
   ]
  },
  {
   "cell_type": "code",
   "execution_count": 1,
   "metadata": {},
   "outputs": [],
   "source": [
    "import pandas as pd\n",
    "import numpy as np\n",
    "import json\n",
    "import re "
   ]
  },
  {
   "cell_type": "markdown",
   "metadata": {},
   "source": [
    "### 1: Item profiles"
   ]
  },
  {
   "cell_type": "markdown",
   "metadata": {},
   "source": [
    "#### Read & inspect the books data"
   ]
  },
  {
   "cell_type": "code",
   "execution_count": 2,
   "metadata": {},
   "outputs": [],
   "source": [
    "df_books = pd.read_csv('data/books_metadata.csv')"
   ]
  },
  {
   "cell_type": "code",
   "execution_count": 3,
   "metadata": {},
   "outputs": [
    {
     "data": {
      "text/html": [
       "<div>\n",
       "<style scoped>\n",
       "    .dataframe tbody tr th:only-of-type {\n",
       "        vertical-align: middle;\n",
       "    }\n",
       "\n",
       "    .dataframe tbody tr th {\n",
       "        vertical-align: top;\n",
       "    }\n",
       "\n",
       "    .dataframe thead th {\n",
       "        text-align: right;\n",
       "    }\n",
       "</style>\n",
       "<table border=\"1\" class=\"dataframe\">\n",
       "  <thead>\n",
       "    <tr style=\"text-align: right;\">\n",
       "      <th></th>\n",
       "      <th>book_id</th>\n",
       "      <th>title</th>\n",
       "      <th>series</th>\n",
       "      <th>author</th>\n",
       "      <th>description</th>\n",
       "      <th>genres</th>\n",
       "      <th>pages</th>\n",
       "      <th>publisher</th>\n",
       "      <th>firstPublishDate</th>\n",
       "      <th>awards</th>\n",
       "      <th>setting</th>\n",
       "      <th>coverImg</th>\n",
       "    </tr>\n",
       "  </thead>\n",
       "  <tbody>\n",
       "    <tr>\n",
       "      <th>0</th>\n",
       "      <td>14796360</td>\n",
       "      <td>The Hunger Games</td>\n",
       "      <td>The Hunger Games #1</td>\n",
       "      <td>Suzanne Collins</td>\n",
       "      <td>WINNING MEANS FAME AND FORTUNE.LOSING MEANS CE...</td>\n",
       "      <td>['Young Adult', 'Fiction', 'Dystopia', 'Fantas...</td>\n",
       "      <td>374</td>\n",
       "      <td>Scholastic Press</td>\n",
       "      <td>NaN</td>\n",
       "      <td>['Locus Award Nominee for Best Young Adult Boo...</td>\n",
       "      <td>['District 12, Panem', 'Capitol, Panem', 'Pane...</td>\n",
       "      <td>https://i.gr-assets.com/images/S/compressed.ph...</td>\n",
       "    </tr>\n",
       "    <tr>\n",
       "      <th>1</th>\n",
       "      <td>7743507</td>\n",
       "      <td>Harry Potter and the Order of the Phoenix</td>\n",
       "      <td>Harry Potter #5</td>\n",
       "      <td>J.K. Rowling, Mary GrandPré (Illustrator)</td>\n",
       "      <td>There is a door at the end of a silent corrido...</td>\n",
       "      <td>['Fantasy', 'Young Adult', 'Fiction', 'Magic',...</td>\n",
       "      <td>870</td>\n",
       "      <td>Scholastic Inc.</td>\n",
       "      <td>06/21/03</td>\n",
       "      <td>['Bram Stoker Award for Works for Young Reader...</td>\n",
       "      <td>['Hogwarts School of Witchcraft and Wizardry (...</td>\n",
       "      <td>https://i.gr-assets.com/images/S/compressed.ph...</td>\n",
       "    </tr>\n",
       "    <tr>\n",
       "      <th>2</th>\n",
       "      <td>23390821</td>\n",
       "      <td>To Kill a Mockingbird</td>\n",
       "      <td>To Kill a Mockingbird</td>\n",
       "      <td>Harper Lee</td>\n",
       "      <td>The unforgettable novel of a childhood in a sl...</td>\n",
       "      <td>['Classics', 'Fiction', 'Historical Fiction', ...</td>\n",
       "      <td>324</td>\n",
       "      <td>Harper Perennial Modern Classics</td>\n",
       "      <td>07/11/60</td>\n",
       "      <td>['Pulitzer Prize for Fiction (1961)', 'Audie A...</td>\n",
       "      <td>['Maycomb, Alabama (United States)']</td>\n",
       "      <td>https://i.gr-assets.com/images/S/compressed.ph...</td>\n",
       "    </tr>\n",
       "    <tr>\n",
       "      <th>3</th>\n",
       "      <td>1555826</td>\n",
       "      <td>Pride and Prejudice</td>\n",
       "      <td>NaN</td>\n",
       "      <td>Jane Austen, Anna Quindlen (Introduction)</td>\n",
       "      <td>Alternate cover edition of ISBN 9780679783268S...</td>\n",
       "      <td>['Classics', 'Fiction', 'Romance', 'Historical...</td>\n",
       "      <td>279</td>\n",
       "      <td>Modern Library</td>\n",
       "      <td>01/28/13</td>\n",
       "      <td>[]</td>\n",
       "      <td>['United Kingdom', 'Derbyshire, England (Unite...</td>\n",
       "      <td>https://i.gr-assets.com/images/S/compressed.ph...</td>\n",
       "    </tr>\n",
       "    <tr>\n",
       "      <th>4</th>\n",
       "      <td>28109798</td>\n",
       "      <td>The Book Thief</td>\n",
       "      <td>NaN</td>\n",
       "      <td>Markus Zusak (Goodreads Author)</td>\n",
       "      <td>Librarian's note: An alternate cover edition c...</td>\n",
       "      <td>['Historical Fiction', 'Fiction', 'Young Adult...</td>\n",
       "      <td>552</td>\n",
       "      <td>Alfred A. Knopf</td>\n",
       "      <td>09/01/05</td>\n",
       "      <td>['National Jewish Book Award for Children’s an...</td>\n",
       "      <td>['Molching (Germany)', 'Germany']</td>\n",
       "      <td>https://i.gr-assets.com/images/S/compressed.ph...</td>\n",
       "    </tr>\n",
       "  </tbody>\n",
       "</table>\n",
       "</div>"
      ],
      "text/plain": [
       "    book_id                                      title                 series  \\\n",
       "0  14796360                           The Hunger Games    The Hunger Games #1   \n",
       "1   7743507  Harry Potter and the Order of the Phoenix        Harry Potter #5   \n",
       "2  23390821                      To Kill a Mockingbird  To Kill a Mockingbird   \n",
       "3   1555826                        Pride and Prejudice                    NaN   \n",
       "4  28109798                             The Book Thief                    NaN   \n",
       "\n",
       "                                      author  \\\n",
       "0                            Suzanne Collins   \n",
       "1  J.K. Rowling, Mary GrandPré (Illustrator)   \n",
       "2                                 Harper Lee   \n",
       "3  Jane Austen, Anna Quindlen (Introduction)   \n",
       "4            Markus Zusak (Goodreads Author)   \n",
       "\n",
       "                                         description  \\\n",
       "0  WINNING MEANS FAME AND FORTUNE.LOSING MEANS CE...   \n",
       "1  There is a door at the end of a silent corrido...   \n",
       "2  The unforgettable novel of a childhood in a sl...   \n",
       "3  Alternate cover edition of ISBN 9780679783268S...   \n",
       "4  Librarian's note: An alternate cover edition c...   \n",
       "\n",
       "                                              genres pages  \\\n",
       "0  ['Young Adult', 'Fiction', 'Dystopia', 'Fantas...   374   \n",
       "1  ['Fantasy', 'Young Adult', 'Fiction', 'Magic',...   870   \n",
       "2  ['Classics', 'Fiction', 'Historical Fiction', ...   324   \n",
       "3  ['Classics', 'Fiction', 'Romance', 'Historical...   279   \n",
       "4  ['Historical Fiction', 'Fiction', 'Young Adult...   552   \n",
       "\n",
       "                          publisher firstPublishDate  \\\n",
       "0                  Scholastic Press              NaN   \n",
       "1                   Scholastic Inc.         06/21/03   \n",
       "2  Harper Perennial Modern Classics         07/11/60   \n",
       "3                    Modern Library         01/28/13   \n",
       "4                   Alfred A. Knopf         09/01/05   \n",
       "\n",
       "                                              awards  \\\n",
       "0  ['Locus Award Nominee for Best Young Adult Boo...   \n",
       "1  ['Bram Stoker Award for Works for Young Reader...   \n",
       "2  ['Pulitzer Prize for Fiction (1961)', 'Audie A...   \n",
       "3                                                 []   \n",
       "4  ['National Jewish Book Award for Children’s an...   \n",
       "\n",
       "                                             setting  \\\n",
       "0  ['District 12, Panem', 'Capitol, Panem', 'Pane...   \n",
       "1  ['Hogwarts School of Witchcraft and Wizardry (...   \n",
       "2               ['Maycomb, Alabama (United States)']   \n",
       "3  ['United Kingdom', 'Derbyshire, England (Unite...   \n",
       "4                  ['Molching (Germany)', 'Germany']   \n",
       "\n",
       "                                            coverImg  \n",
       "0  https://i.gr-assets.com/images/S/compressed.ph...  \n",
       "1  https://i.gr-assets.com/images/S/compressed.ph...  \n",
       "2  https://i.gr-assets.com/images/S/compressed.ph...  \n",
       "3  https://i.gr-assets.com/images/S/compressed.ph...  \n",
       "4  https://i.gr-assets.com/images/S/compressed.ph...  "
      ]
     },
     "execution_count": 3,
     "metadata": {},
     "output_type": "execute_result"
    }
   ],
   "source": [
    "df_books.head()"
   ]
  },
  {
   "cell_type": "markdown",
   "metadata": {},
   "source": [
    "#### Create dictionary with the item profiles and write to file"
   ]
  },
  {
   "cell_type": "markdown",
   "metadata": {},
   "source": [
    "Set book_id as id in dataframe"
   ]
  },
  {
   "cell_type": "code",
   "execution_count": 4,
   "metadata": {},
   "outputs": [],
   "source": [
    "df_books = df_books.set_index(\"book_id\")"
   ]
  },
  {
   "cell_type": "markdown",
   "metadata": {},
   "source": [
    "Create the dictionary from the above dataframe"
   ]
  },
  {
   "cell_type": "code",
   "execution_count": 5,
   "metadata": {},
   "outputs": [],
   "source": [
    "books_map = df_books.to_dict(orient='index')"
   ]
  },
  {
   "cell_type": "code",
   "execution_count": 6,
   "metadata": {},
   "outputs": [
    {
     "data": {
      "text/plain": [
       "{'title': 'The Hunger Games',\n",
       " 'series': 'The Hunger Games #1',\n",
       " 'author': 'Suzanne Collins',\n",
       " 'description': \"WINNING MEANS FAME AND FORTUNE.LOSING MEANS CERTAIN DEATH.THE HUNGER GAMES HAVE BEGUN. . . .In the ruins of a place once known as North America lies the nation of Panem, a shining Capitol surrounded by twelve outlying districts. The Capitol is harsh and cruel and keeps the districts in line by forcing them all to send one boy and once girl between the ages of twelve and eighteen to participate in the annual Hunger Games, a fight to the death on live TV.Sixteen-year-old Katniss Everdeen regards it as a death sentence when she steps forward to take her sister's place in the Games. But Katniss has been close to dead before—and survival, for her, is second nature. Without really meaning to, she becomes a contender. But if she is to win, she will have to start making choices that weight survival against humanity and life against love.\",\n",
       " 'genres': \"['Young Adult', 'Fiction', 'Dystopia', 'Fantasy', 'Science Fiction', 'Romance', 'Adventure', 'Teen', 'Post Apocalyptic', 'Action']\",\n",
       " 'pages': '374',\n",
       " 'publisher': 'Scholastic Press',\n",
       " 'firstPublishDate': nan,\n",
       " 'awards': '[\\'Locus Award Nominee for Best Young Adult Book (2009)\\', \\'Georgia Peach Book Award (2009)\\', \\'Buxtehuder Bulle (2009)\\', \\'Golden Duck Award for Young Adult (Hal Clement Award) (2009)\\', \"Grand Prix de l\\'Imaginaire Nominee for Roman jeunesse étranger (2010)\", \\'Books I Loved Best Yearly (BILBY) Awards for Older Readers (2012)\\', \"West Australian Young Readers\\' Book Award (WAYRBA) for Older Readers (2010)\", \"Red House Children\\'s Book Award for Older Readers & Overall (2010)\", \\'South Carolina Book Award for Junior and Young Adult Book (2011)\\', \\'Charlotte Award (2010)\\', \\'Colorado Blue Spruce Young Adult Book Award (2010)\\', \\'Teen Buckeye Book Award (2009)\\', \"Pennsylvania Young Readers\\' Choice Award for Young Adults (2010)\", \\'Rhode Island Teen Book Award (2010)\\', \"Dorothy Canfield Fisher Children\\'s Book Award (2010)\", \\'Evergreen Teen Book Award (2011)\\', \\'Soaring Eagle Book Award (2009)\\', \\'Milwaukee County Teen Book Award Nominee (2010)\\', \\'Sakura Medal for Middle School Book (2010)\\', \\'Michigan Library Association Thumbs Up! Award (2009)\\', \\'Florida Teens Read (2009)\\', \\'Deutscher Jugendliteraturpreis for Preis der Jugendjury (2010)\\', \\'Iowa High School Book Award (2011)\\', \\'New Mexico Land of Enchantment Award for Young Adult (2011)\\', \\'Eliot Rosewater Indiana High School Book Award (2010)\\', \\'The Inky Awards for Silver Inky (2009)\\', \\'California Young Readers Medal for Young Adult (2011)\\', \\'Lincoln Award (2011)\\', \\'Kinderboekwinkelprijs (2010)\\', \\'Missouri Truman Readers Award (2011)\\', \\'CYBILS Award for Young Adult Fantasy & Science Fiction (2008)\\', \\'Literaturpreis der Jury der jungen Leser for Jugendbuch (2010)\\', \\'The Inky Awards Shortlist for Silver Inky (2009)\\', \\'Prix Et-lisez-moi (2011)\\', \\'Missouri Gateway Readers Award (2011)\\', \\'Oklahoma Sequoyah Award for High School and Intermediate (2011)\\', \\'Premio El Templo de las Mil Puertas for Mejor novela extranjera perteneciente a saga (2009)\\', \"Rebecca Caudill Young Readers\\' Book Award (2011)\", \\'LovelyBooks Leserpreis for Fantasy (2009)\\', \\'LovelyBooks Leserpreis for Bestes Cover/Umschlag (2009)\\', \\'Premi Protagonista Jove for Categoria 13-14 anys (2010)\\']',\n",
       " 'setting': \"['District 12, Panem', 'Capitol, Panem', 'Panem (United States)']\",\n",
       " 'coverImg': 'https://i.gr-assets.com/images/S/compressed.photo.goodreads.com/books/1586722975l/2767052.jpg'}"
      ]
     },
     "execution_count": 6,
     "metadata": {},
     "output_type": "execute_result"
    }
   ],
   "source": [
    "books_map[14796360] #test"
   ]
  },
  {
   "cell_type": "markdown",
   "metadata": {},
   "source": [
    "**Problem 1**: The lists in the cells are stored as strings that looks like lists; we want actual lists in the item profiles dictionary.<br/>\n",
    "\n",
    "Columns where we have lists in the cells are: genres, awards, setting.<br/>\n",
    "Formats:<br/> \n",
    "genres = \"['item1', 'item2', ...]\"<br/>\n",
    "awards = \"[\\\\'item1\\\\', \\\\'item2\\\\', ...]\"<br/>\n",
    "setting = \"['item1', 'item2', ...]\"<br/>\n",
    "\n",
    "We create a function to turn string into list for the two formats above."
   ]
  },
  {
   "cell_type": "code",
   "execution_count": 7,
   "metadata": {},
   "outputs": [],
   "source": [
    "def string_to_list(s, awards=False):\n",
    "    if awards:\n",
    "        s_ = s.strip(\"[]\").split(\", \")\n",
    "        s = []\n",
    "        for aw in s_:\n",
    "            s.append(aw[1:-1]) # Chop off the \" from front and back, somewhat tideous but works\n",
    "    else:\n",
    "        s = s.strip(\"[]\").split(\"', '\")\n",
    "        # Remove \"'\" from start of first and end of last item\n",
    "        s[0] = s[0][1:]\n",
    "        s[-1] = s[-1][:-1]\n",
    "    return s"
   ]
  },
  {
   "cell_type": "markdown",
   "metadata": {},
   "source": [
    "**Problem 2:** There are illustrators and translators displayed as multiple authors for many of the books. Also some authors are \"Goodreads Authors\". We will only keep the main author for convenience.\n",
    "\n",
    "Examples:<br/>\n",
    "\"A1, A2 (Illustrator), A3 (Translator), A4\"<br/>\n",
    "\"A1 (Goodreads Author)\" <br/>\n",
    "\"A1, A2\"\n",
    "\n",
    "-> In all cases above, we just want to keep \"A1\". We create a function below to solve the problem:"
   ]
  },
  {
   "cell_type": "code",
   "execution_count": 8,
   "metadata": {},
   "outputs": [],
   "source": [
    "def clean_authorstring(author_str):\n",
    "    cleaned_str = author_str\n",
    "    if \",\" in author_str:\n",
    "        authors = author_str.strip().split(\",\")\n",
    "        cleaned_str = authors[0]\n",
    "    if \"(\" in cleaned_str:\n",
    "        authors = author_str.strip().split(\"(\")\n",
    "        cleaned_str = authors[0]\n",
    "    return cleaned_str.strip()"
   ]
  },
  {
   "cell_type": "markdown",
   "metadata": {},
   "source": [
    "Fix **problem 1** and **problem 2**: Clean the item profile dictionary (books_map) row-wise."
   ]
  },
  {
   "cell_type": "code",
   "execution_count": 9,
   "metadata": {},
   "outputs": [],
   "source": [
    "for book_id, metadata in books_map.items():\n",
    "    books_map[book_id][\"awards\"] = string_to_list(books_map[book_id][\"awards\"], awards=True) \n",
    "    books_map[book_id][\"genres\"] = string_to_list(books_map[book_id][\"genres\"], awards=False) \n",
    "    books_map[book_id][\"setting\"] = string_to_list(books_map[book_id][\"setting\"], awards=False) \n",
    "    books_map[book_id][\"author\"] = clean_authorstring(books_map[book_id][\"author\"])"
   ]
  },
  {
   "cell_type": "markdown",
   "metadata": {},
   "source": [
    "Append the top n scoring TF.IDF scoring words from descriptions of each book to the items profile:<br/>\n",
    "1.  Create dict {book_id : [(word1, tfidf_score1), (word2, tfidf_score2), ...]}<br/>\n",
    "2.  Insert, for each book_id in books_map, the item \"words\" : [word1, word2, ..., wordn] and remove the books in books_map that does not appear in the set of books with a top-n list of TF.IDF scoring words."
   ]
  },
  {
   "cell_type": "code",
   "execution_count": 10,
   "metadata": {},
   "outputs": [],
   "source": [
    "# 1.\n",
    "\n",
    "#open file with the output from tfidf-file\n",
    "filename = 'tfidf_scores'\n",
    "infile = open(filename, 'r')\n",
    "\n",
    "# dict d as {id: (word, tfidf)}\n",
    "d = {}\n",
    "#extracting the word, id and tfidf score for each line with regex, and appending it to the dict\n",
    "for line in infile:\n",
    "    word_found = re.search(r'\\[\\\"(.+)\\\",', line) \n",
    "    id_found = re.search(r'\\[\\\".+\\\",(\\d+)\\]', line)\n",
    "    tfidf_found = re.search(r'\\]\\s+(\\d+\\.\\d+)', line)\n",
    "    if word_found and id_found and tfidf_found:\n",
    "        word = word_found.group(1)\n",
    "        id = int(id_found.group(1))\n",
    "        tfidf = float(tfidf_found.group(1))\n",
    "        if id in d.keys():\n",
    "            d[id].append((word, tfidf))\n",
    "        else:\n",
    "            d[id] = [(word, tfidf)]\n",
    "\n",
    "infile.close()\n",
    "\n",
    "#sort the values for each key in the dict, based on the tfidf score\n",
    "#only keep the n words with the highest tfidf score\n",
    "book_tfidf = {}\n",
    "n_words = 5\n",
    "\n",
    "for book_id, pair in d.items():\n",
    "    book_tfidf[book_id] = sorted(pair, key=lambda value: value[1], reverse=True)[:n_words] "
   ]
  },
  {
   "cell_type": "code",
   "execution_count": 11,
   "metadata": {},
   "outputs": [],
   "source": [
    "# 2.\n",
    "\n",
    "for book_id, pairs in book_tfidf.items():\n",
    "    words_ = []\n",
    "    for word, score in pairs:\n",
    "        words_.append(word)\n",
    "    if book_id in books_map.keys():\n",
    "        books_map[book_id][\"words\"] = words_\n",
    "\n",
    "exclude = set(books_map.keys()).symmetric_difference(set(book_tfidf.keys()))\n",
    "for ex in exclude:\n",
    "    books_map.pop(ex, None)\n"
   ]
  },
  {
   "cell_type": "markdown",
   "metadata": {},
   "source": [
    "We may now remove the non interesting features from our books_map. That is: the description and the features that do not contain any information sbout the book itself."
   ]
  },
  {
   "cell_type": "code",
   "execution_count": 12,
   "metadata": {},
   "outputs": [
    {
     "data": {
      "text/plain": [
       "dict_keys(['title', 'series', 'author', 'description', 'genres', 'pages', 'publisher', 'firstPublishDate', 'awards', 'setting', 'coverImg', 'words'])"
      ]
     },
     "execution_count": 12,
     "metadata": {},
     "output_type": "execute_result"
    }
   ],
   "source": [
    "books_map[14796360].keys()"
   ]
  },
  {
   "cell_type": "code",
   "execution_count": 13,
   "metadata": {},
   "outputs": [],
   "source": [
    "# Non-interesting features = 'description', 'coverImg'\n",
    "for book_id, data in books_map.items():\n",
    "    del data['description']\n",
    "    del data['coverImg']"
   ]
  },
  {
   "cell_type": "markdown",
   "metadata": {},
   "source": [
    "books_map is now our set of item profiles for the majority of the books from books_metadata.csv, and can be compared to user profiles.<br/>\n",
    "Finally, write all the item profiles as json strings to file \"item_profiles\" where each row is an item."
   ]
  },
  {
   "cell_type": "code",
   "execution_count": 14,
   "metadata": {},
   "outputs": [],
   "source": [
    "with open('item_profiles.txt', 'w') as outfile:\n",
    "    for book_id, metadata in books_map.items():\n",
    "        d_ = {}\n",
    "        d_[book_id] = metadata\n",
    "        json.dump(d_, outfile)\n",
    "        outfile.write('\\n')\n",
    "        d_= {}"
   ]
  },
  {
   "cell_type": "markdown",
   "metadata": {},
   "source": [
    "### 2: User profiles"
   ]
  },
  {
   "cell_type": "markdown",
   "metadata": {},
   "source": [
    "#### Read & inspect the users data"
   ]
  },
  {
   "cell_type": "code",
   "execution_count": 15,
   "metadata": {},
   "outputs": [
    {
     "data": {
      "text/html": [
       "<div>\n",
       "<style scoped>\n",
       "    .dataframe tbody tr th:only-of-type {\n",
       "        vertical-align: middle;\n",
       "    }\n",
       "\n",
       "    .dataframe tbody tr th {\n",
       "        vertical-align: top;\n",
       "    }\n",
       "\n",
       "    .dataframe thead th {\n",
       "        text-align: right;\n",
       "    }\n",
       "</style>\n",
       "<table border=\"1\" class=\"dataframe\">\n",
       "  <thead>\n",
       "    <tr style=\"text-align: right;\">\n",
       "      <th></th>\n",
       "      <th>Unnamed: 0</th>\n",
       "      <th>user_id</th>\n",
       "      <th>book_id</th>\n",
       "      <th>rating</th>\n",
       "    </tr>\n",
       "  </thead>\n",
       "  <tbody>\n",
       "    <tr>\n",
       "      <th>0</th>\n",
       "      <td>0</td>\n",
       "      <td>0</td>\n",
       "      <td>5602347</td>\n",
       "      <td>5</td>\n",
       "    </tr>\n",
       "    <tr>\n",
       "      <th>1</th>\n",
       "      <td>1</td>\n",
       "      <td>0</td>\n",
       "      <td>30</td>\n",
       "      <td>5</td>\n",
       "    </tr>\n",
       "    <tr>\n",
       "      <th>2</th>\n",
       "      <td>2</td>\n",
       "      <td>0</td>\n",
       "      <td>12528798</td>\n",
       "      <td>5</td>\n",
       "    </tr>\n",
       "    <tr>\n",
       "      <th>3</th>\n",
       "      <td>3</td>\n",
       "      <td>0</td>\n",
       "      <td>25026517</td>\n",
       "      <td>4</td>\n",
       "    </tr>\n",
       "    <tr>\n",
       "      <th>4</th>\n",
       "      <td>4</td>\n",
       "      <td>0</td>\n",
       "      <td>835</td>\n",
       "      <td>4</td>\n",
       "    </tr>\n",
       "  </tbody>\n",
       "</table>\n",
       "</div>"
      ],
      "text/plain": [
       "   Unnamed: 0  user_id   book_id  rating\n",
       "0           0        0   5602347       5\n",
       "1           1        0        30       5\n",
       "2           2        0  12528798       5\n",
       "3           3        0  25026517       4\n",
       "4           4        0       835       4"
      ]
     },
     "execution_count": 15,
     "metadata": {},
     "output_type": "execute_result"
    }
   ],
   "source": [
    "df_users = pd.read_csv(\"data/user_book_ratings.csv\")\n",
    "df_users.head()"
   ]
  },
  {
   "cell_type": "code",
   "execution_count": 16,
   "metadata": {},
   "outputs": [],
   "source": [
    "df_users_booklist = df_users.groupby('user_id')['book_id'].apply(list).reset_index(name='books_list').set_index('user_id')\n",
    "df_users_ratinglist = df_users.groupby('user_id')['rating'].apply(list).reset_index(name='ratings_list').set_index('user_id')"
   ]
  },
  {
   "cell_type": "code",
   "execution_count": 17,
   "metadata": {},
   "outputs": [
    {
     "data": {
      "text/html": [
       "<div>\n",
       "<style scoped>\n",
       "    .dataframe tbody tr th:only-of-type {\n",
       "        vertical-align: middle;\n",
       "    }\n",
       "\n",
       "    .dataframe tbody tr th {\n",
       "        vertical-align: top;\n",
       "    }\n",
       "\n",
       "    .dataframe thead th {\n",
       "        text-align: right;\n",
       "    }\n",
       "</style>\n",
       "<table border=\"1\" class=\"dataframe\">\n",
       "  <thead>\n",
       "    <tr style=\"text-align: right;\">\n",
       "      <th></th>\n",
       "      <th>books_list</th>\n",
       "      <th>ratings_list</th>\n",
       "    </tr>\n",
       "    <tr>\n",
       "      <th>user_id</th>\n",
       "      <th></th>\n",
       "      <th></th>\n",
       "    </tr>\n",
       "  </thead>\n",
       "  <tbody>\n",
       "    <tr>\n",
       "      <th>0</th>\n",
       "      <td>[5602347, 30, 12528798, 25026517, 835, 2202194...</td>\n",
       "      <td>[5, 5, 5, 4, 4, 5, 5, 5, 4, 5, 5, 5, 5, 5, 4, ...</td>\n",
       "    </tr>\n",
       "    <tr>\n",
       "      <th>1</th>\n",
       "      <td>[9003477, 627206, 395614, 1730369, 91760, 2409...</td>\n",
       "      <td>[4, 4, 0, 5, 0, 0, 5, 0, 0, 3, 0, 5, 0, 5, 5, ...</td>\n",
       "    </tr>\n",
       "    <tr>\n",
       "      <th>2</th>\n",
       "      <td>[22240073, 6666060, 1480805, 6571776, 5973095,...</td>\n",
       "      <td>[4, 4, 3, 4, 3, 3, 3, 2, 4, 4, 5, 3, 3, 3, 4, ...</td>\n",
       "    </tr>\n",
       "    <tr>\n",
       "      <th>3</th>\n",
       "      <td>[12047693, 12913723, 7029926, 6316356, 12535, ...</td>\n",
       "      <td>[5, 5, 4, 3, 0, 0, 5, 0, 3, 0, 0, 4, 0, 3, 0, ...</td>\n",
       "    </tr>\n",
       "    <tr>\n",
       "      <th>4</th>\n",
       "      <td>[817661, 20427793, 40075, 12986764, 10127510, ...</td>\n",
       "      <td>[3, 3, 5, 2, 3, 3, 4, 2, 4, 5, 4, 1, 4, 2, 2, ...</td>\n",
       "    </tr>\n",
       "    <tr>\n",
       "      <th>...</th>\n",
       "      <td>...</td>\n",
       "      <td>...</td>\n",
       "    </tr>\n",
       "    <tr>\n",
       "      <th>876140</th>\n",
       "      <td>[879891, 15733551, 420031, 16978009, 894542, 4...</td>\n",
       "      <td>[3, 5, 2, 0, 0, 0, 0, 0, 0, 0, 0, 5, 4, 0]</td>\n",
       "    </tr>\n",
       "    <tr>\n",
       "      <th>876141</th>\n",
       "      <td>[11066234, 6066819, 20440128, 453824, 10445007...</td>\n",
       "      <td>[0, 0, 0, 5, 4, 4, 5, 4, 5, 3, 4]</td>\n",
       "    </tr>\n",
       "    <tr>\n",
       "      <th>876142</th>\n",
       "      <td>[7226415, 821080, 6234106, 16393581, 9003477, ...</td>\n",
       "      <td>[5, 5, 5, 5, 4, 5, 5, 5, 5, 5, 5, 0, 4, 0, 0, ...</td>\n",
       "    </tr>\n",
       "    <tr>\n",
       "      <th>876143</th>\n",
       "      <td>[17416065, 15947905, 12322066, 7967279, 281097...</td>\n",
       "      <td>[4, 5, 4, 4, 5, 5, 5, 4]</td>\n",
       "    </tr>\n",
       "    <tr>\n",
       "      <th>876144</th>\n",
       "      <td>[1703388, 16112413]</td>\n",
       "      <td>[0, 0]</td>\n",
       "    </tr>\n",
       "  </tbody>\n",
       "</table>\n",
       "<p>819367 rows × 2 columns</p>\n",
       "</div>"
      ],
      "text/plain": [
       "                                                books_list  \\\n",
       "user_id                                                      \n",
       "0        [5602347, 30, 12528798, 25026517, 835, 2202194...   \n",
       "1        [9003477, 627206, 395614, 1730369, 91760, 2409...   \n",
       "2        [22240073, 6666060, 1480805, 6571776, 5973095,...   \n",
       "3        [12047693, 12913723, 7029926, 6316356, 12535, ...   \n",
       "4        [817661, 20427793, 40075, 12986764, 10127510, ...   \n",
       "...                                                    ...   \n",
       "876140   [879891, 15733551, 420031, 16978009, 894542, 4...   \n",
       "876141   [11066234, 6066819, 20440128, 453824, 10445007...   \n",
       "876142   [7226415, 821080, 6234106, 16393581, 9003477, ...   \n",
       "876143   [17416065, 15947905, 12322066, 7967279, 281097...   \n",
       "876144                                 [1703388, 16112413]   \n",
       "\n",
       "                                              ratings_list  \n",
       "user_id                                                     \n",
       "0        [5, 5, 5, 4, 4, 5, 5, 5, 4, 5, 5, 5, 5, 5, 4, ...  \n",
       "1        [4, 4, 0, 5, 0, 0, 5, 0, 0, 3, 0, 5, 0, 5, 5, ...  \n",
       "2        [4, 4, 3, 4, 3, 3, 3, 2, 4, 4, 5, 3, 3, 3, 4, ...  \n",
       "3        [5, 5, 4, 3, 0, 0, 5, 0, 3, 0, 0, 4, 0, 3, 0, ...  \n",
       "4        [3, 3, 5, 2, 3, 3, 4, 2, 4, 5, 4, 1, 4, 2, 2, ...  \n",
       "...                                                    ...  \n",
       "876140          [3, 5, 2, 0, 0, 0, 0, 0, 0, 0, 0, 5, 4, 0]  \n",
       "876141                   [0, 0, 0, 5, 4, 4, 5, 4, 5, 3, 4]  \n",
       "876142   [5, 5, 5, 5, 4, 5, 5, 5, 5, 5, 5, 0, 4, 0, 0, ...  \n",
       "876143                            [4, 5, 4, 4, 5, 5, 5, 4]  \n",
       "876144                                              [0, 0]  \n",
       "\n",
       "[819367 rows x 2 columns]"
      ]
     },
     "execution_count": 17,
     "metadata": {},
     "output_type": "execute_result"
    }
   ],
   "source": [
    "df_users = df_users_booklist.join(df_users_ratinglist)\n",
    "df_users"
   ]
  },
  {
   "cell_type": "markdown",
   "metadata": {},
   "source": [
    "Create function that makes average ratings for all of the values of the features of the books a given user has rated."
   ]
  },
  {
   "cell_type": "code",
   "execution_count": 18,
   "metadata": {},
   "outputs": [],
   "source": [
    "def make_avg_rating(user_id, df_users, books_map, alpha_pages):\n",
    "    \"\"\"\n",
    "    Takes a row from the df_users (i.e. a user id, the books the user have rated and the ratings for \n",
    "    those books) and returns a dict on the form {feature1: {val1: avg_rating1, val2: avg_rating2, ...}, ...}\n",
    "    with the same features as in the item profiles.\n",
    "    \"\"\"\n",
    "    books = df_users.loc[user_id]['books_list']\n",
    "    ratings = df_users.loc[user_id]['ratings_list']\n",
    "\n",
    "    # We standardize each rating by subtracting the mean of all ratings for the user, to prevent high-/low-rating users from being handled differently\n",
    "    ratings_std = [r - np.mean(ratings) for r in ratings]\n",
    "\n",
    "    # Go through all books to calculate mean of ratings for the possible values of the features\n",
    "    keys = ['title', 'series', 'author', 'genres', 'pages', 'publisher', 'firstPublishDate', 'awards', 'setting', 'words']\n",
    "    user_avg = dict.fromkeys(keys, {}) # Choose random book to copy keys from, init all values to an empty dict\n",
    "    for feature in user_avg.keys(): # Fill dictionary feature-wise\n",
    "        inner_dict = {} # Should contain values with associated ratings for each of the features \n",
    "        for i, book in enumerate(books):\n",
    "\n",
    "            if book in books_map:\n",
    "                data = books_map[book][feature]\n",
    "            else: continue # if not we must drop the book\n",
    "\n",
    "            if type(data) != list: # If the data is a string (!=list) we mat insert its rating directly\n",
    "                if data not in inner_dict.keys():\n",
    "                    inner_dict[data] = [ratings_std[i]]\n",
    "                else:\n",
    "                    inner_dict[data].append(ratings_std[i])\n",
    "            else: # If data is list, each value from the list is given its own rating\n",
    "                for el in data:\n",
    "                    if el not in inner_dict.keys():\n",
    "                        inner_dict[el] = [ratings_std[i]]\n",
    "                    else:\n",
    "                        inner_dict[el].append(ratings_std[i])\n",
    "\n",
    "        user_avg[feature] = inner_dict # Append to outer dict on the given feature\n",
    "\n",
    "    #  We may then proceed to doing the averages for all the lists in the user_avg dictionary\n",
    "    for feature, map in user_avg.items():\n",
    "        for value, ratings_list in map.items():\n",
    "            user_avg[feature][value] = np.mean(ratings_list)\n",
    "    \n",
    "    # Also, for the pages we take the weighted sum of the pages the user has rated and multiply it with a scaling factor, alpha, for the pages\n",
    "    pages = user_avg[\"pages\"]\n",
    "    w_avg_pages = 0\n",
    "    for k,v in pages.items():\n",
    "        try: \n",
    "            if np.isnan(float(k)): \n",
    "                w_avg_pages += 0 # We can not assume anything about the length of the book\n",
    "            else:\n",
    "                w_avg_pages += v*float(k)\n",
    "        except ValueError: # there are 8 instances where a value error is raised\n",
    "            w_avg_pages += 0\n",
    "\n",
    "    user_avg[\"pages\"] = w_avg_pages*alpha_pages\n",
    "    \n",
    "    return user_avg"
   ]
  },
  {
   "cell_type": "markdown",
   "metadata": {},
   "source": [
    "Obtain the scaling factor for number of pages"
   ]
  },
  {
   "cell_type": "code",
   "execution_count": 19,
   "metadata": {},
   "outputs": [
    {
     "name": "stdout",
     "output_type": "stream",
     "text": [
      "1 page\n",
      "1 page\n",
      "1 page\n",
      "1 page\n",
      "1 page\n",
      "1 page\n",
      "1 page\n",
      "1 page\n",
      "Sum of all pages from all books: 8313630.0\n",
      "Number of books summed up: 25331\n",
      "Mean number of pages per book: 328.1998341952548\n",
      "Scaling of the pagenumber for a given user is then: 0.003046924147454241\n"
     ]
    }
   ],
   "source": [
    "# We find the scaling factor for the number of pages as: alpha_pages = 1/mean(number of pages for all books)\n",
    "N = len(books_map)\n",
    "sum = 0\n",
    "for book_id in books_map.keys():\n",
    "    try: \n",
    "        if np.isnan(float(books_map[book_id]['pages'])): # there is about 500 instances where this is true, these are just nan values\n",
    "            sum += 200 # we add a value close to (a bit lower than) the median where we have missing values\n",
    "        else:\n",
    "            sum += float(books_map[book_id]['pages'])\n",
    "    except ValueError: # there is 8 instances where a value error is raised\n",
    "        sum += 0\n",
    "        N = N-1\n",
    "        print(books_map[book_id]['pages']) # We print them to see\n",
    "\n",
    "mean_pagenumber = sum/N\n",
    "alpha_pages = 1/mean_pagenumber\n",
    "\n",
    "print(f\"Sum of all pages from all books: {sum}\")\n",
    "print(f\"Number of books summed up: {N}\")\n",
    "print(f\"Mean number of pages per book: {mean_pagenumber}\")\n",
    "print(f\"Scaling of the pagenumber for a given user is then: {alpha_pages}\")"
   ]
  },
  {
   "cell_type": "code",
   "execution_count": 20,
   "metadata": {},
   "outputs": [
    {
     "name": "stdout",
     "output_type": "stream",
     "text": [
      "title : {'Looking for Alaska': -0.5, 'The Fault in Our Stars': 0.5, 'Lock and Key': -0.5, 'Outliers: The Story of Success': -0.5, 'The Book Thief': 0.5, 'I Am the Messenger': 0.5, 'Will Grayson, Will Grayson': 0.5, 'Whirligig': -0.5}\n",
      "series : {nan: -0.07142857142857142, 'Will Grayson, Will Grayson #1': 0.5}\n",
      "author : {'John Green': 0.16666666666666666, 'Sarah Dessen': -0.5, 'Malcolm Gladwell': -0.5, 'Markus Zusak': 0.5, 'Paul Fleischman': -0.5}\n",
      "genres : {'Young Adult': 0.07142857142857142, 'Fiction': 0.07142857142857142, 'Contemporary': 0.0, 'Romance': 0.0, 'Realistic Fiction': 0.0, 'Coming Of Age': 0.0, 'Teen': 0.0, 'Mystery': 0.0, 'Young Adult Contemporary': -0.5, 'High School': -0.5, 'Drama': 0.5, 'Novels': 0.5, 'Love': 0.5, 'Chick Lit': -0.5, 'Nonfiction': -0.5, 'Psychology': -0.5, 'Business': -0.5, 'Self Help': -0.5, 'Sociology': -0.5, 'Science': -0.5, 'Audiobook': 0.16666666666666666, 'Personal Development': -0.5, 'Economics': -0.5, 'Leadership': -0.5, 'Historical Fiction': 0.5, 'Historical': 0.5, 'Classics': 0.5, 'War': 0.5, 'Holocaust': 0.5, 'World War II': 0.5, 'Books About Books': 0.5, 'Australia': 0.5, 'Adult': 0.5, 'LGBT': 0.5, 'Queer': 0.5, 'Humor': 0.5, 'School': -0.5, 'Read For School': -0.5, 'Death': -0.5, 'Middle Grade': -0.5}\n",
      "pages : 0.6489948434077534\n",
      "publisher : {'Speak': -0.5, 'Dutton Books': 0.5, \"Viking's Children's Books\": -0.5, 'Little, Brown and Company': -0.5, 'Alfred A. Knopf': 0.5, 'Alfred A. Knopf Borzoi Books': 0.5, 'Laurel Leaf': -0.5}\n",
      "firstPublishDate : {'03/03/05': -0.5, nan: 0.16666666666666666, '10/28/08': -0.5, '09/01/05': 0.5, '01/10/02': 0.5, '05/15/98': -0.5}\n",
      "awards : {'Los Angeles Times Book Prize Nominee for Young Adult Fiction (2005)': -0.5, 'Michael L. Printz Award (2006)': -0.5, 'Rhode Island Teen Book Award Nominee (2007)': -0.5, 'Michigan Library Association Thumbs Up! Award Nominee (2006)': -0.5, 'Deutscher Jugendliteraturpreis Nominee for Jugendbuch (2008)': -0.5, 'The Inky Awards for Silver Inky (2007)': -0.5, 'Lincoln Award Nominee (2009)': 0.0, 'Bronzener Lufti (2007)': -0.5, 'Green Mountain Book Award (2008)': -0.5, 'The Inky Awards Shortlist for Silver Inky (2007)': -0.5, 'Alabama Author Award for Young Adult (2006)': -0.5, 'Premio El Templo de las Mil Puertas Nominee for Mejor novela extranjera independiente (2014)': -0.5, 'Georgia Peach Book Award (2013)': 0.5, 'Buxtehuder Bulle (2012)': 0.5, 'Odyssey Award (2013)': 0.5, 'Audie Award for Teens (2013)': 0.5, \"West Australian Young Readers' Book Award (WAYRBA) for Older Readers (2013)\": 0.5, \"Pennsylvania Young Readers' Choice Award for Young Adults (2013)\": 0.5, 'Rhode Island Teen Book Award (2014)': 0.5, 'Evergreen Teen Book Award (2015)': 0.5, 'Soaring Eagle Book Award (2014)': 0.5, 'Milwaukee County Teen Book Award (2013)': 0.5, 'Indies Choice Book Award for Young Adult (2013)': 0.5, 'Deutscher Jugendliteraturpreis for Preis der Jugendjury (2013)': 0.5, 'Amelia Elizabeth Walden Award (2013)': 0.5, 'Dioraphte Jongerenliteratuurprijs for vertaald boek en publieksprijs (2013)': 0.5, 'The Inky Awards for Silver Inky (2012)': 0.5, 'California Young Readers Medal for Young Adult (2015)': 0.5, 'Lincoln Award (2014)': 0.5, 'Luisterboek Award (2015)': 0.5, 'Goodreads Choice Award for Young Adult Fiction (2012) and Nominee for Best of the Best  (2018)': 0.5, 'Green Mountain Book Award (2014)': 0.5, 'The Inky Awards Shortlist for Silver Inky (2012)': 0.5, \"Louisiana Teen Readers' Choice (2015)\": 0.5, 'Missouri Gateway Readers Award (2015)': 0.5, 'Oklahoma Sequoyah Award for High School (2015)': 0.5, 'Alabama Author Award for Young Adult (2013)': 0.5, 'Premio El Templo de las Mil Puertas for Mejor novela extranjera independiente (2012)': 0.5, 'FAB Award Nominee (2014)': 0.5, 'Premi Protagonista Jove for Categoria 15-16 anys (2013)': 0.5, 'Iowa High School Book Award Nominee (2011)': -0.5, 'Missouri Gateway Readers Award Nominee (2011)': -0.5, '': -0.5, 'National Jewish Book Award for Children’s and Young Adult Literature (2006)': 0.5, \"Book Sense Book of the Year Award for Children's Literature (2007)\": 0.5, 'Buxtehuder Bulle (2008)': 0.5, 'Sydney Taylor Book Award for Teen Readers (2007)': 0.5, 'Prijs van de Kinder- en Jeugdjury Vlaanderen (2009)': 0.5, 'Michael L. Printz Award Nominee (2007)': 0.5, 'Exclusive Books Boeke Prize (2007)': 0.5, 'Rhode Island Teen Book Award Nominee (2008)': 0.5, 'The Quill Award Nominee for Young Adult/Teen (2006)': 0.5, 'Zilveren Zoen (2008)': 0.5, 'Teen Read Award Nominee for Best All-Time-Fave (2010)': 0.5, 'Deutscher Jugendliteraturpreis for Preis der Jugendjury (2009)': 0.5, 'Association of Jewish Libraries for Teen Book Award (2006)': 0.5, 'Lincoln Award Nominee (2010)': 0.5, 'Australian Book Industry Award (ABIA) Nominee for Literary Fiction (2008)': 0.5, 'Kathleen Mitchell Award': 0.5, 'Ena Noel Award (2008)': 0.5, 'Literaturpreis der Jury der jungen Leser for Jugendbuch (2009)': 0.5, 'LovelyBooks Leserpreis for Allgemeine Literatur (2009)': 0.5, 'Margaret A. Edwards Award (2014)': 0.5, \"New South Wales Premier's Literary Award for Ethel Turner Prize for Young People's Literature (2003)\": 0.5, \"Children's Book Council of Australia Award for Book of the Year: Older Readers (2003)\": 0.5, 'Michael L. Printz Award Nominee (2006)': 0.5, 'Deutscher Jugendliteraturpreis for Preis der Jugendjury (2007)': 0.5, 'Goldener Lufti (2006)': 0.5, 'Literaturpreis der Jury der jungen Leser for Jugendbuch (2007)': 0.5, 'Stonewall Book Award Nominee for Children’s and Young Adult Literature (2011)': 0.5, \"Romantic Times Reviewers' Choice Award (RT Award) Nominee for Best Young Adult Novel (2010)\": 0.5, 'Odyssey Award Nominee (2011)': 0.5, 'Milwaukee County Teen Book Award (2011)': 0.5, \"Children's Choice Book Award for Teen Choice Book of the Year (2011)\": 0.5, 'The Inky Awards Nominee for Silver Inky (2010)': 0.5, 'Lincoln Award Nominee (2013)': 0.5, 'Goodreads Choice Award Nominee for Young Adult Fiction (2010)': 0.5, 'The Inky Awards Shortlist for Silver Inky (2010)': 0.5, \"Dorothy Canfield Fisher Children's Book Award Nominee (2000)\": -0.5, 'California Young Readers Medal Nominee for Young Adult (2001)': -0.5}\n",
      "setting : {'Alabama (United States)': -0.5, 'Indianapolis, Indiana (United States)': 0.5, 'Amsterdam (Netherlands)': 0.5, 'Lakeview, North Carolina (United States)': -0.5, '': -0.5, 'Molching (Germany)': 0.5, 'Germany': 0.5, 'Australia': 0.5, 'Illinois (United States)': 0.5}\n",
      "words : {'pudg': -0.5, 'alaska': -0.5, 'culver': -0.5, 'halter': -0.5, 'francoi': -0.5, 'hazel': 0.5, 'tumor': 0.5, 'inscrib': 0.5, 'augustus': 0.5, 'rewritten': 0.5, 'rubi': -0.5, 'cora': -0.5, 'genial': -0.5, 'dessen': -0.5, 'gutsi': -0.5, 'gladwel': -0.5, 'malcolm': -0.5, 'intellectu': -0.5, 'stun': -0.5, 'journey': -0.5, 'liesel': 0.5, 'busier': 0.5, 'book': 0.5, 'foster': 0.5, 'accordian': 0.5, 'pailler': 0.5, 'zusak': 0.5, 'markus': 0.5, 'emmanuel': 0.5, 'goodread': 0.5, 'grayson': 0.5, 'brent': -0.5, 'fleischman': -0.5, 'multivo': -0.5, 'whirligig': -0.5, 'paul': -0.5}\n"
     ]
    }
   ],
   "source": [
    "# test for a random user\n",
    "d = make_avg_rating(876143, df_users, books_map, alpha_pages)\n",
    "for k,v in d.items():\n",
    "    print(f\"{k} : {v}\")"
   ]
  },
  {
   "cell_type": "markdown",
   "metadata": {},
   "source": [
    "#### Create the user profiles for all users"
   ]
  },
  {
   "cell_type": "code",
   "execution_count": 21,
   "metadata": {},
   "outputs": [],
   "source": [
    "from progressbar import ProgressBar\n",
    "pbar = ProgressBar()"
   ]
  },
  {
   "cell_type": "code",
   "execution_count": 22,
   "metadata": {},
   "outputs": [
    {
     "name": "stderr",
     "output_type": "stream",
     "text": [
      "100% |########################################################################|\n"
     ]
    }
   ],
   "source": [
    "# Select sample of the users to give recommendation to, let number of users be 25k\n",
    "df_sample_users = df_users.sample(n=25000)\n",
    "# Lower amount of users to enable the file to be pushed to repo\n",
    "df_sample_users = df_users.sample(n=500)\n",
    "\n",
    "user_profiles = {}\n",
    "for user in pbar(df_sample_users.index):\n",
    "    user_profiles[user] = make_avg_rating(user, df_users, books_map, alpha_pages)\n",
    "    "
   ]
  },
  {
   "cell_type": "markdown",
   "metadata": {},
   "source": [
    "#### Write the user profiles to file *\"user_profiles.txt\"*"
   ]
  },
  {
   "cell_type": "code",
   "execution_count": 23,
   "metadata": {},
   "outputs": [],
   "source": [
    "with open('user_profiles.txt', 'w') as outfile:\n",
    "    for user_id, metadata in user_profiles.items():\n",
    "        d_ = {}\n",
    "        d_[user_id] = metadata\n",
    "        json.dump(d_, outfile)\n",
    "        outfile.write('\\n')\n",
    "        d_= {}"
   ]
  }
 ],
 "metadata": {
  "kernelspec": {
   "display_name": "Python 3.9.13 64-bit (microsoft store)",
   "language": "python",
   "name": "python3"
  },
  "language_info": {
   "codemirror_mode": {
    "name": "ipython",
    "version": 3
   },
   "file_extension": ".py",
   "mimetype": "text/x-python",
   "name": "python",
   "nbconvert_exporter": "python",
   "pygments_lexer": "ipython3",
   "version": "3.9.13"
  },
  "orig_nbformat": 4,
  "vscode": {
   "interpreter": {
    "hash": "3aa2052e9a08f0910284e2d7e8b5954f4401c8e958dc175eb29fb1cae388f6ea"
   }
  }
 },
 "nbformat": 4,
 "nbformat_minor": 2
}
