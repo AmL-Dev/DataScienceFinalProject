{
 "cells": [
  {
   "cell_type": "code",
   "execution_count": 44,
   "metadata": {},
   "outputs": [],
   "source": [
    "import pandas as pd\n",
    "import json"
   ]
  },
  {
   "cell_type": "markdown",
   "metadata": {},
   "source": [
    "#### Read & inspect data"
   ]
  },
  {
   "cell_type": "code",
   "execution_count": 45,
   "metadata": {},
   "outputs": [],
   "source": [
    "df_books = pd.read_csv('data/books_metadata.csv')"
   ]
  },
  {
   "cell_type": "code",
   "execution_count": 46,
   "metadata": {},
   "outputs": [
    {
     "name": "stdout",
     "output_type": "stream",
     "text": [
      "26764\n"
     ]
    }
   ],
   "source": [
    "print(len(df_books))"
   ]
  },
  {
   "cell_type": "code",
   "execution_count": 47,
   "metadata": {},
   "outputs": [
    {
     "data": {
      "text/html": [
       "<div>\n",
       "<style scoped>\n",
       "    .dataframe tbody tr th:only-of-type {\n",
       "        vertical-align: middle;\n",
       "    }\n",
       "\n",
       "    .dataframe tbody tr th {\n",
       "        vertical-align: top;\n",
       "    }\n",
       "\n",
       "    .dataframe thead th {\n",
       "        text-align: right;\n",
       "    }\n",
       "</style>\n",
       "<table border=\"1\" class=\"dataframe\">\n",
       "  <thead>\n",
       "    <tr style=\"text-align: right;\">\n",
       "      <th></th>\n",
       "      <th>book_id</th>\n",
       "      <th>title</th>\n",
       "      <th>series</th>\n",
       "      <th>author</th>\n",
       "      <th>description</th>\n",
       "      <th>genres</th>\n",
       "      <th>pages</th>\n",
       "      <th>publisher</th>\n",
       "      <th>firstPublishDate</th>\n",
       "      <th>awards</th>\n",
       "      <th>setting</th>\n",
       "      <th>coverImg</th>\n",
       "    </tr>\n",
       "  </thead>\n",
       "  <tbody>\n",
       "    <tr>\n",
       "      <th>0</th>\n",
       "      <td>14796360</td>\n",
       "      <td>The Hunger Games</td>\n",
       "      <td>The Hunger Games #1</td>\n",
       "      <td>Suzanne Collins</td>\n",
       "      <td>WINNING MEANS FAME AND FORTUNE.LOSING MEANS CE...</td>\n",
       "      <td>['Young Adult', 'Fiction', 'Dystopia', 'Fantas...</td>\n",
       "      <td>374</td>\n",
       "      <td>Scholastic Press</td>\n",
       "      <td>NaN</td>\n",
       "      <td>['Locus Award Nominee for Best Young Adult Boo...</td>\n",
       "      <td>['District 12, Panem', 'Capitol, Panem', 'Pane...</td>\n",
       "      <td>https://i.gr-assets.com/images/S/compressed.ph...</td>\n",
       "    </tr>\n",
       "    <tr>\n",
       "      <th>1</th>\n",
       "      <td>7743507</td>\n",
       "      <td>Harry Potter and the Order of the Phoenix</td>\n",
       "      <td>Harry Potter #5</td>\n",
       "      <td>J.K. Rowling, Mary GrandPré (Illustrator)</td>\n",
       "      <td>There is a door at the end of a silent corrido...</td>\n",
       "      <td>['Fantasy', 'Young Adult', 'Fiction', 'Magic',...</td>\n",
       "      <td>870</td>\n",
       "      <td>Scholastic Inc.</td>\n",
       "      <td>06/21/03</td>\n",
       "      <td>['Bram Stoker Award for Works for Young Reader...</td>\n",
       "      <td>['Hogwarts School of Witchcraft and Wizardry (...</td>\n",
       "      <td>https://i.gr-assets.com/images/S/compressed.ph...</td>\n",
       "    </tr>\n",
       "    <tr>\n",
       "      <th>2</th>\n",
       "      <td>23390821</td>\n",
       "      <td>To Kill a Mockingbird</td>\n",
       "      <td>To Kill a Mockingbird</td>\n",
       "      <td>Harper Lee</td>\n",
       "      <td>The unforgettable novel of a childhood in a sl...</td>\n",
       "      <td>['Classics', 'Fiction', 'Historical Fiction', ...</td>\n",
       "      <td>324</td>\n",
       "      <td>Harper Perennial Modern Classics</td>\n",
       "      <td>07/11/60</td>\n",
       "      <td>['Pulitzer Prize for Fiction (1961)', 'Audie A...</td>\n",
       "      <td>['Maycomb, Alabama (United States)']</td>\n",
       "      <td>https://i.gr-assets.com/images/S/compressed.ph...</td>\n",
       "    </tr>\n",
       "    <tr>\n",
       "      <th>3</th>\n",
       "      <td>1555826</td>\n",
       "      <td>Pride and Prejudice</td>\n",
       "      <td>NaN</td>\n",
       "      <td>Jane Austen, Anna Quindlen (Introduction)</td>\n",
       "      <td>Alternate cover edition of ISBN 9780679783268S...</td>\n",
       "      <td>['Classics', 'Fiction', 'Romance', 'Historical...</td>\n",
       "      <td>279</td>\n",
       "      <td>Modern Library</td>\n",
       "      <td>01/28/13</td>\n",
       "      <td>[]</td>\n",
       "      <td>['United Kingdom', 'Derbyshire, England (Unite...</td>\n",
       "      <td>https://i.gr-assets.com/images/S/compressed.ph...</td>\n",
       "    </tr>\n",
       "    <tr>\n",
       "      <th>4</th>\n",
       "      <td>28109798</td>\n",
       "      <td>The Book Thief</td>\n",
       "      <td>NaN</td>\n",
       "      <td>Markus Zusak (Goodreads Author)</td>\n",
       "      <td>Librarian's note: An alternate cover edition c...</td>\n",
       "      <td>['Historical Fiction', 'Fiction', 'Young Adult...</td>\n",
       "      <td>552</td>\n",
       "      <td>Alfred A. Knopf</td>\n",
       "      <td>09/01/05</td>\n",
       "      <td>['National Jewish Book Award for Children’s an...</td>\n",
       "      <td>['Molching (Germany)', 'Germany']</td>\n",
       "      <td>https://i.gr-assets.com/images/S/compressed.ph...</td>\n",
       "    </tr>\n",
       "  </tbody>\n",
       "</table>\n",
       "</div>"
      ],
      "text/plain": [
       "    book_id                                      title                 series  \\\n",
       "0  14796360                           The Hunger Games    The Hunger Games #1   \n",
       "1   7743507  Harry Potter and the Order of the Phoenix        Harry Potter #5   \n",
       "2  23390821                      To Kill a Mockingbird  To Kill a Mockingbird   \n",
       "3   1555826                        Pride and Prejudice                    NaN   \n",
       "4  28109798                             The Book Thief                    NaN   \n",
       "\n",
       "                                      author  \\\n",
       "0                            Suzanne Collins   \n",
       "1  J.K. Rowling, Mary GrandPré (Illustrator)   \n",
       "2                                 Harper Lee   \n",
       "3  Jane Austen, Anna Quindlen (Introduction)   \n",
       "4            Markus Zusak (Goodreads Author)   \n",
       "\n",
       "                                         description  \\\n",
       "0  WINNING MEANS FAME AND FORTUNE.LOSING MEANS CE...   \n",
       "1  There is a door at the end of a silent corrido...   \n",
       "2  The unforgettable novel of a childhood in a sl...   \n",
       "3  Alternate cover edition of ISBN 9780679783268S...   \n",
       "4  Librarian's note: An alternate cover edition c...   \n",
       "\n",
       "                                              genres pages  \\\n",
       "0  ['Young Adult', 'Fiction', 'Dystopia', 'Fantas...   374   \n",
       "1  ['Fantasy', 'Young Adult', 'Fiction', 'Magic',...   870   \n",
       "2  ['Classics', 'Fiction', 'Historical Fiction', ...   324   \n",
       "3  ['Classics', 'Fiction', 'Romance', 'Historical...   279   \n",
       "4  ['Historical Fiction', 'Fiction', 'Young Adult...   552   \n",
       "\n",
       "                          publisher firstPublishDate  \\\n",
       "0                  Scholastic Press              NaN   \n",
       "1                   Scholastic Inc.         06/21/03   \n",
       "2  Harper Perennial Modern Classics         07/11/60   \n",
       "3                    Modern Library         01/28/13   \n",
       "4                   Alfred A. Knopf         09/01/05   \n",
       "\n",
       "                                              awards  \\\n",
       "0  ['Locus Award Nominee for Best Young Adult Boo...   \n",
       "1  ['Bram Stoker Award for Works for Young Reader...   \n",
       "2  ['Pulitzer Prize for Fiction (1961)', 'Audie A...   \n",
       "3                                                 []   \n",
       "4  ['National Jewish Book Award for Children’s an...   \n",
       "\n",
       "                                             setting  \\\n",
       "0  ['District 12, Panem', 'Capitol, Panem', 'Pane...   \n",
       "1  ['Hogwarts School of Witchcraft and Wizardry (...   \n",
       "2               ['Maycomb, Alabama (United States)']   \n",
       "3  ['United Kingdom', 'Derbyshire, England (Unite...   \n",
       "4                  ['Molching (Germany)', 'Germany']   \n",
       "\n",
       "                                            coverImg  \n",
       "0  https://i.gr-assets.com/images/S/compressed.ph...  \n",
       "1  https://i.gr-assets.com/images/S/compressed.ph...  \n",
       "2  https://i.gr-assets.com/images/S/compressed.ph...  \n",
       "3  https://i.gr-assets.com/images/S/compressed.ph...  \n",
       "4  https://i.gr-assets.com/images/S/compressed.ph...  "
      ]
     },
     "execution_count": 47,
     "metadata": {},
     "output_type": "execute_result"
    }
   ],
   "source": [
    "df_books.head()"
   ]
  },
  {
   "cell_type": "markdown",
   "metadata": {},
   "source": [
    "### Create dictionary with the item profiles"
   ]
  },
  {
   "cell_type": "markdown",
   "metadata": {},
   "source": [
    "Set book id as id in dataframe, remove non-named left-most column"
   ]
  },
  {
   "cell_type": "code",
   "execution_count": 48,
   "metadata": {},
   "outputs": [],
   "source": [
    "df_books = df_books.set_index(\"book_id\")"
   ]
  },
  {
   "cell_type": "markdown",
   "metadata": {},
   "source": [
    "Create the dictionary from the above dataframe"
   ]
  },
  {
   "cell_type": "code",
   "execution_count": 49,
   "metadata": {},
   "outputs": [],
   "source": [
    "books_map = df_books.to_dict(orient='index')"
   ]
  },
  {
   "cell_type": "code",
   "execution_count": 50,
   "metadata": {},
   "outputs": [
    {
     "data": {
      "text/plain": [
       "{'title': 'The Hunger Games',\n",
       " 'series': 'The Hunger Games #1',\n",
       " 'author': 'Suzanne Collins',\n",
       " 'description': \"WINNING MEANS FAME AND FORTUNE.LOSING MEANS CERTAIN DEATH.THE HUNGER GAMES HAVE BEGUN. . . .In the ruins of a place once known as North America lies the nation of Panem, a shining Capitol surrounded by twelve outlying districts. The Capitol is harsh and cruel and keeps the districts in line by forcing them all to send one boy and once girl between the ages of twelve and eighteen to participate in the annual Hunger Games, a fight to the death on live TV.Sixteen-year-old Katniss Everdeen regards it as a death sentence when she steps forward to take her sister's place in the Games. But Katniss has been close to dead before—and survival, for her, is second nature. Without really meaning to, she becomes a contender. But if she is to win, she will have to start making choices that weight survival against humanity and life against love.\",\n",
       " 'genres': \"['Young Adult', 'Fiction', 'Dystopia', 'Fantasy', 'Science Fiction', 'Romance', 'Adventure', 'Teen', 'Post Apocalyptic', 'Action']\",\n",
       " 'pages': '374',\n",
       " 'publisher': 'Scholastic Press',\n",
       " 'firstPublishDate': nan,\n",
       " 'awards': '[\\'Locus Award Nominee for Best Young Adult Book (2009)\\', \\'Georgia Peach Book Award (2009)\\', \\'Buxtehuder Bulle (2009)\\', \\'Golden Duck Award for Young Adult (Hal Clement Award) (2009)\\', \"Grand Prix de l\\'Imaginaire Nominee for Roman jeunesse étranger (2010)\", \\'Books I Loved Best Yearly (BILBY) Awards for Older Readers (2012)\\', \"West Australian Young Readers\\' Book Award (WAYRBA) for Older Readers (2010)\", \"Red House Children\\'s Book Award for Older Readers & Overall (2010)\", \\'South Carolina Book Award for Junior and Young Adult Book (2011)\\', \\'Charlotte Award (2010)\\', \\'Colorado Blue Spruce Young Adult Book Award (2010)\\', \\'Teen Buckeye Book Award (2009)\\', \"Pennsylvania Young Readers\\' Choice Award for Young Adults (2010)\", \\'Rhode Island Teen Book Award (2010)\\', \"Dorothy Canfield Fisher Children\\'s Book Award (2010)\", \\'Evergreen Teen Book Award (2011)\\', \\'Soaring Eagle Book Award (2009)\\', \\'Milwaukee County Teen Book Award Nominee (2010)\\', \\'Sakura Medal for Middle School Book (2010)\\', \\'Michigan Library Association Thumbs Up! Award (2009)\\', \\'Florida Teens Read (2009)\\', \\'Deutscher Jugendliteraturpreis for Preis der Jugendjury (2010)\\', \\'Iowa High School Book Award (2011)\\', \\'New Mexico Land of Enchantment Award for Young Adult (2011)\\', \\'Eliot Rosewater Indiana High School Book Award (2010)\\', \\'The Inky Awards for Silver Inky (2009)\\', \\'California Young Readers Medal for Young Adult (2011)\\', \\'Lincoln Award (2011)\\', \\'Kinderboekwinkelprijs (2010)\\', \\'Missouri Truman Readers Award (2011)\\', \\'CYBILS Award for Young Adult Fantasy & Science Fiction (2008)\\', \\'Literaturpreis der Jury der jungen Leser for Jugendbuch (2010)\\', \\'The Inky Awards Shortlist for Silver Inky (2009)\\', \\'Prix Et-lisez-moi (2011)\\', \\'Missouri Gateway Readers Award (2011)\\', \\'Oklahoma Sequoyah Award for High School and Intermediate (2011)\\', \\'Premio El Templo de las Mil Puertas for Mejor novela extranjera perteneciente a saga (2009)\\', \"Rebecca Caudill Young Readers\\' Book Award (2011)\", \\'LovelyBooks Leserpreis for Fantasy (2009)\\', \\'LovelyBooks Leserpreis for Bestes Cover/Umschlag (2009)\\', \\'Premi Protagonista Jove for Categoria 13-14 anys (2010)\\']',\n",
       " 'setting': \"['District 12, Panem', 'Capitol, Panem', 'Panem (United States)']\",\n",
       " 'coverImg': 'https://i.gr-assets.com/images/S/compressed.photo.goodreads.com/books/1586722975l/2767052.jpg'}"
      ]
     },
     "execution_count": 50,
     "metadata": {},
     "output_type": "execute_result"
    }
   ],
   "source": [
    "books_map[14796360] #test"
   ]
  },
  {
   "cell_type": "markdown",
   "metadata": {},
   "source": [
    "**Problem**: The lists in some cells are stored as strings that looks like lists; we want actual lists in the item profiles.<br/>\n",
    "\n",
    "Columns where we have lists in the cells are: genres, awards, setting.<br/>\n",
    "Formats:<br/> \n",
    "genres = \"['item1', 'item2', ...]\"<br/>\n",
    "awards = \"[\\\\'item1\\\\', \\\\'item2\\\\', ...]\"<br/>\n",
    "setting = \"['item1', 'item2', ...]\"<br/>\n",
    "\n",
    "We create functions to turn string into list for the two formats above."
   ]
  },
  {
   "cell_type": "code",
   "execution_count": 51,
   "metadata": {},
   "outputs": [],
   "source": [
    "def string_to_list(s, awards=False):\n",
    "    if awards:\n",
    "        s_ = s.strip(\"[]\").split(\", \")\n",
    "        s = []\n",
    "        for aw in s_:\n",
    "            s.append(aw[1:-1]) # Chop off the \" from front and back, somewhat tideous but works\n",
    "    else:\n",
    "        s = s.strip(\"[]\").split(\"', '\")\n",
    "        # Remove \"'\" from start of first and end of last item\n",
    "        s[0] = s[0][1:]\n",
    "        s[-1] = s[-1][:-1]\n",
    "    return s"
   ]
  },
  {
   "cell_type": "markdown",
   "metadata": {},
   "source": [
    "Clean the lists in books map:"
   ]
  },
  {
   "cell_type": "code",
   "execution_count": 52,
   "metadata": {},
   "outputs": [],
   "source": [
    "for book_id, metadata in books_map.items():\n",
    "    books_map[book_id][\"awards\"] = string_to_list(books_map[book_id][\"awards\"], awards=True) \n",
    "    books_map[book_id][\"genres\"] = string_to_list(books_map[book_id][\"genres\"], awards=False) \n",
    "    books_map[book_id][\"setting\"] = string_to_list(books_map[book_id][\"setting\"], awards=False) "
   ]
  },
  {
   "cell_type": "code",
   "execution_count": 53,
   "metadata": {},
   "outputs": [],
   "source": [
    "with open('item_profiles.txt', 'w') as outfile:\n",
    "    for book_id, metadata in books_map.items():\n",
    "        d_ = {}\n",
    "        d_[book_id] = metadata\n",
    "        json.dump(d_, outfile)\n",
    "        outfile.write('\\n')\n",
    "        d_= {}"
   ]
  },
  {
   "cell_type": "code",
   "execution_count": null,
   "metadata": {},
   "outputs": [],
   "source": []
  },
  {
   "cell_type": "markdown",
   "metadata": {},
   "source": [
    "books_map is now our set of item profiles"
   ]
  }
 ],
 "metadata": {
  "kernelspec": {
   "display_name": "Python 3.9.13 64-bit (microsoft store)",
   "language": "python",
   "name": "python3"
  },
  "language_info": {
   "codemirror_mode": {
    "name": "ipython",
    "version": 3
   },
   "file_extension": ".py",
   "mimetype": "text/x-python",
   "name": "python",
   "nbconvert_exporter": "python",
   "pygments_lexer": "ipython3",
   "version": "3.9.13"
  },
  "orig_nbformat": 4,
  "vscode": {
   "interpreter": {
    "hash": "3aa2052e9a08f0910284e2d7e8b5954f4401c8e958dc175eb29fb1cae388f6ea"
   }
  }
 },
 "nbformat": 4,
 "nbformat_minor": 2
}
